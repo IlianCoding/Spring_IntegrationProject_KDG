{
 "cells": [
  {
   "metadata": {},
   "cell_type": "code",
   "source": [
    "import pandas as pd\n",
    "import matplotlib.pyplot as plt\n",
    "import seaborn as sns\n",
    "\n",
    "from sklearn.feature_selection import mutual_info_regression"
   ],
   "id": "f523adc19769b465",
   "outputs": [],
   "execution_count": null
  },
  {
   "metadata": {},
   "cell_type": "markdown",
   "source": [
    "# Visualizing the BGG dataset\n",
    "## Loading in the dataset"
   ],
   "id": "c81f1e9973bf39e3"
  },
  {
   "metadata": {},
   "cell_type": "code",
   "source": "df = pd.read_excel('./data/BGG_Complete_Cleaned_Dataset.xlsx')",
   "id": "405ed81aa59e7041",
   "outputs": [],
   "execution_count": null
  },
  {
   "metadata": {},
   "cell_type": "markdown",
   "source": [
    "## Visualizations\n",
    "#### Amount of users across the primary domains of a game"
   ],
   "id": "2e28179aac0e4a08"
  },
  {
   "metadata": {},
   "cell_type": "code",
   "source": [
    "# This shows the total number of owned users grouped by primary domain.\n",
    "df['Primary Domain'] = df['Domains'].str.split(', ').str[0]\n",
    "\n",
    "owned_users = df.groupby('Primary Domain')['Owned Users'].sum().sort_values(ascending=False)\n",
    "\n",
    "plt.figure(figsize=(10, 6))\n",
    "owned_users.plot(kind='bar', color='skyblue', edgecolor='black')\n",
    "plt.title(\"Number of Owned Users Across Game Domains\", fontsize=16)\n",
    "plt.ylabel(\"Total Owned Users\", fontsize=12)\n",
    "plt.xlabel(\"Game Domains\", fontsize=12)\n",
    "plt.xticks(rotation=45)\n",
    "plt.tight_layout()\n",
    "plt.show()"
   ],
   "id": "d164beb052e1589",
   "outputs": [],
   "execution_count": null
  },
  {
   "metadata": {},
   "cell_type": "markdown",
   "source": "#### The relationship between complexity average and user ratings (rating average)",
   "id": "e500e5f622f07514"
  },
  {
   "metadata": {},
   "cell_type": "code",
   "source": [
    "plt.figure(figsize=(8, 6))\n",
    "sns.scatterplot(data=df, x='Complexity Average', y='Rating Average', hue='Primary Domain', alpha=1.0)\n",
    "plt.title(\"Complexity vs Rating Average by Domain\", fontsize=16)\n",
    "plt.xlabel(\"Complexity Average\", fontsize=12)\n",
    "plt.ylabel(\"Rating Average\", fontsize=12)\n",
    "plt.legend(title='Primary Domain', bbox_to_anchor=(1.05, 1), loc='upper left')\n",
    "plt.tight_layout()\n",
    "plt.show()"
   ],
   "id": "cdd240b2c2384849",
   "outputs": [],
   "execution_count": null
  },
  {
   "metadata": {},
   "cell_type": "markdown",
   "source": "#### The relationship between the amount of players required to play the game and the duration of the game",
   "id": "8fda9c8e83ecfe69"
  },
  {
   "metadata": {},
   "cell_type": "code",
   "source": [
    "plt.figure(figsize=(10, 6))\n",
    "sns.boxplot(data=df, x='Min Players', y='Play Time')\n",
    "plt.title(\"Play Time Distribution by Minimum Players\", fontsize=16)\n",
    "plt.xlabel(\"Minimum Players\", fontsize=12)\n",
    "plt.ylabel(\"Play Time (minutes)\", fontsize=12)\n",
    "plt.tight_layout()\n",
    "plt.show()"
   ],
   "id": "6f8407641f4633f5",
   "outputs": [],
   "execution_count": null
  },
  {
   "metadata": {},
   "cell_type": "markdown",
   "source": "#### The distribution of average ratings across all games",
   "id": "7d0461dfc85ab94c"
  },
  {
   "metadata": {},
   "cell_type": "code",
   "source": [
    "plt.figure(figsize=(8, 6))\n",
    "sns.histplot(df['Rating Average'], kde=True, bins=20, color='blue')\n",
    "plt.title(\"Distribution of Average Ratings\", fontsize=16)\n",
    "plt.xlabel(\"Rating Average\", fontsize=12)\n",
    "plt.ylabel(\"Frequency\", fontsize=12)\n",
    "plt.tight_layout()\n",
    "plt.show()"
   ],
   "id": "84bff711785113db",
   "outputs": [],
   "execution_count": null
  },
  {
   "metadata": {},
   "cell_type": "markdown",
   "source": "#### The amount of games by the minimum age requirement",
   "id": "35607444871ee2c8"
  },
  {
   "metadata": {},
   "cell_type": "code",
   "source": [
    "min_age_counts = df['Min Age'].value_counts().sort_index()\n",
    "plt.figure(figsize=(8, 6))\n",
    "min_age_counts.plot(kind='bar', color='orange', edgecolor='black')\n",
    "plt.title(\"Number of Games by Minimum Age\", fontsize=16)\n",
    "plt.xlabel(\"Minimum Age\", fontsize=12)\n",
    "plt.ylabel(\"Number of Games\", fontsize=12)\n",
    "plt.tight_layout()\n",
    "plt.show()"
   ],
   "id": "3960967020e60b23",
   "outputs": [],
   "execution_count": null
  },
  {
   "metadata": {},
   "cell_type": "markdown",
   "source": "#### Complexity across game domains",
   "id": "d08fe966fe9a2951"
  },
  {
   "metadata": {},
   "cell_type": "code",
   "source": [
    "plt.figure(figsize=(10, 6))\n",
    "sns.boxplot(data=df, x='Primary Domain', y='Complexity Average')\n",
    "plt.title(\"Complexity by Game Domain\", fontsize=16)\n",
    "plt.xlabel(\"Game Domain\", fontsize=12)\n",
    "plt.ylabel(\"Complexity Average\", fontsize=12)\n",
    "plt.xticks(rotation=45)\n",
    "plt.tight_layout()\n",
    "plt.show()"
   ],
   "id": "83ae720d95634226",
   "outputs": [],
   "execution_count": null
  },
  {
   "metadata": {},
   "cell_type": "markdown",
   "source": "#### Game duration variations across all the games",
   "id": "ee145be7cd41fe38"
  },
  {
   "metadata": {},
   "cell_type": "code",
   "source": [
    "plt.figure(figsize=(8, 6))\n",
    "sns.histplot(df['Play Time'], kde=True, bins=20, color='blue')\n",
    "plt.title(\"Distribution of Play Time\", fontsize=16)\n",
    "plt.xlabel(\"Play Time (minutes)\", fontsize=12)\n",
    "plt.ylabel(\"Frequency\", fontsize=12)\n",
    "plt.tight_layout()\n",
    "plt.show()"
   ],
   "id": "381a25b417ecc4c8",
   "outputs": [],
   "execution_count": null
  },
  {
   "metadata": {},
   "cell_type": "markdown",
   "source": [
    "## Visualizing the needed features to predict the needed targets\n",
    "### Correlations"
   ],
   "id": "59a85d6ea984cd14"
  },
  {
   "metadata": {},
   "cell_type": "code",
   "source": [
    "df_corr = df.drop(columns=['Primary Domain'])\n",
    "df_corr['Domains'] = df_corr['Domains'].astype('category').cat.codes\n",
    "df_corr['Mechanics_Categories'] = df_corr['Mechanics_Categories'].astype('category').cat.codes\n",
    "correlation_matrix = df_corr.corr()"
   ],
   "id": "8f760ba209f3c26",
   "outputs": [],
   "execution_count": null
  },
  {
   "metadata": {},
   "cell_type": "markdown",
   "source": "#### Correlation scores Complexity Average",
   "id": "fe597ba41e6295dd"
  },
  {
   "metadata": {},
   "cell_type": "code",
   "source": [
    "corr_matrix_complexity = correlation_matrix['Complexity Average'].sort_values(ascending=False)\n",
    "corr_matrix_complexity"
   ],
   "id": "c30461fe235808",
   "outputs": [],
   "execution_count": null
  },
  {
   "metadata": {},
   "cell_type": "markdown",
   "source": "#### Correlation scores Rating Average",
   "id": "c8a649e0da1eca33"
  },
  {
   "metadata": {},
   "cell_type": "code",
   "source": [
    "corr_matrix_complexity = correlation_matrix['Rating Average'].sort_values(ascending=False)\n",
    "corr_matrix_complexity"
   ],
   "id": "f5e9c96e58fb82ed",
   "outputs": [],
   "execution_count": null
  },
  {
   "metadata": {},
   "cell_type": "markdown",
   "source": "#### Correlation scores Owned Users",
   "id": "997352c3552cb66a"
  },
  {
   "metadata": {},
   "cell_type": "code",
   "source": [
    "corr_matrix_complexity = correlation_matrix['Owned Users'].sort_values(ascending=False)\n",
    "corr_matrix_complexity"
   ],
   "id": "90095618514b5f15",
   "outputs": [],
   "execution_count": null
  },
  {
   "metadata": {},
   "cell_type": "markdown",
   "source": "### Mutual information",
   "id": "85832108cdac37f0"
  },
  {
   "metadata": {},
   "cell_type": "code",
   "source": [
    "df_mutual_information = df.drop(columns=['Strategy Games', 'Abstract Games', 'Thematic Games', 'Party Games', 'Wargames', 'Customizable Games', 'Children\\'s Games', 'Family Games', 'Other', 'Action and Turn Management', 'Resource Management', 'Interaction and Conflict', 'Game Progression and Mechanics', 'Auxiliary Mechanics', 'Narrative and Thematic', 'Movement and Positioning', 'Other', 'Specialized Mechanics', 'Strategic Elements', 'Primary Domain']).dropna()\n",
    "\n",
    "df_mutual_information['Domains'] = df_mutual_information['Domains'].astype('category').cat.codes\n",
    "df_mutual_information['Mechanics_Categories'] = df_mutual_information['Mechanics_Categories'].astype('category').cat.codes"
   ],
   "id": "f38d9d4f242ea5eb",
   "outputs": [],
   "execution_count": null
  },
  {
   "metadata": {},
   "cell_type": "markdown",
   "source": "#### Complexity Average",
   "id": "c7de216c2110b470"
  },
  {
   "metadata": {},
   "cell_type": "code",
   "source": [
    "target = df_mutual_information['Complexity Average'].values\n",
    "features = df_mutual_information.drop(columns=['Complexity Average'])\n",
    "mutual_info = mutual_info_regression(features, target, random_state=42, n_neighbors=5, discrete_features='auto')\n",
    "\n",
    "mutual_info_df = pd.DataFrame({\n",
    "    'Feature': features.columns,\n",
    "    'Mutual Information': mutual_info\n",
    "})\n",
    "\n",
    "mutual_info_df = mutual_info_df.sort_values(by='Mutual Information', ascending=False)\n",
    "plt.figure(figsize=(10, 6))\n",
    "plt.barh(mutual_info_df['Feature'], mutual_info_df['Mutual Information'])\n",
    "plt.xlabel('Mutual Information')\n",
    "plt.ylabel('Complexity Average')\n",
    "plt.title('Mutual Information for the Complexity Average Column')\n",
    "plt.gca().invert_yaxis()\n",
    "plt.show()"
   ],
   "id": "b92d25b5ed956225",
   "outputs": [],
   "execution_count": null
  },
  {
   "metadata": {},
   "cell_type": "markdown",
   "source": "#### Rating Average",
   "id": "bc2fadd1e8787db0"
  },
  {
   "metadata": {},
   "cell_type": "code",
   "source": [
    "# Define target and features\n",
    "target = df_mutual_information['Rating Average'].values\n",
    "features = df_mutual_information.drop(columns=['Rating Average'])\n",
    "mutual_info = mutual_info_regression(features, target, random_state=42, n_neighbors=5, discrete_features='auto')\n",
    "\n",
    "mutual_info_df = pd.DataFrame({\n",
    "    'Feature': features.columns,\n",
    "    'Mutual Information': mutual_info\n",
    "})\n",
    "\n",
    "mutual_info_df = mutual_info_df.sort_values(by='Mutual Information', ascending=False)\n",
    "plt.figure(figsize=(10, 6))\n",
    "plt.barh(mutual_info_df['Feature'], mutual_info_df['Mutual Information'])\n",
    "plt.xlabel('Mutual Information')\n",
    "plt.ylabel('Rating Average')\n",
    "plt.title('Mutual Information for the Rating Average Column')\n",
    "plt.gca().invert_yaxis()\n",
    "plt.show()"
   ],
   "id": "3128cfca4726cb3d",
   "outputs": [],
   "execution_count": null
  },
  {
   "metadata": {},
   "cell_type": "markdown",
   "source": "#### Owned Users",
   "id": "dd59fcf224f69e23"
  },
  {
   "metadata": {},
   "cell_type": "code",
   "source": [
    "# Define target and features\n",
    "target = df_mutual_information['Owned Users'].values\n",
    "features = df_mutual_information.drop(columns=['Owned Users'])\n",
    "mutual_info = mutual_info_regression(features, target, random_state=42, n_neighbors=5, discrete_features='auto')\n",
    "\n",
    "mutual_info_df = pd.DataFrame({\n",
    "    'Feature': features.columns,\n",
    "    'Mutual Information': mutual_info\n",
    "})\n",
    "\n",
    "mutual_info_df = mutual_info_df.sort_values(by='Mutual Information', ascending=False)\n",
    "plt.figure(figsize=(10, 6))\n",
    "plt.barh(mutual_info_df['Feature'], mutual_info_df['Mutual Information'])\n",
    "plt.xlabel('Mutual Information')\n",
    "plt.ylabel('Owned Users')\n",
    "plt.title('Mutual Information for the Owned Users Column')\n",
    "plt.gca().invert_yaxis()\n",
    "plt.show()"
   ],
   "id": "3313a46417cca6eb",
   "outputs": [],
   "execution_count": null
  }
 ],
 "metadata": {
  "kernelspec": {
   "display_name": "Python 3",
   "language": "python",
   "name": "python3"
  },
  "language_info": {
   "codemirror_mode": {
    "name": "ipython",
    "version": 2
   },
   "file_extension": ".py",
   "mimetype": "text/x-python",
   "name": "python",
   "nbconvert_exporter": "python",
   "pygments_lexer": "ipython2",
   "version": "2.7.6"
  }
 },
 "nbformat": 4,
 "nbformat_minor": 5
}
