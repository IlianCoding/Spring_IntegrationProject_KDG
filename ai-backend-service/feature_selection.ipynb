{
 "cells": [
  {
   "cell_type": "code",
   "id": "initial_id",
   "metadata": {
    "collapsed": true
   },
   "source": [
    "import pandas as pd\n",
    "\n",
    "from sklearn.feature_selection import mutual_info_regression\n",
    "from sklearn.feature_selection import f_regression"
   ],
   "outputs": [],
   "execution_count": null
  },
  {
   "metadata": {},
   "cell_type": "markdown",
   "source": [
    "# Feature Selection for the final models\n",
    "## Loading in the dataset"
   ],
   "id": "9a2543fee42ddffe"
  },
  {
   "metadata": {},
   "cell_type": "code",
   "source": "df = pd.read_excel('./data/BGG_Complete_Cleaned_Dataset.xlsx')",
   "id": "879d83eaed210b96",
   "outputs": [],
   "execution_count": null
  },
  {
   "metadata": {},
   "cell_type": "code",
   "source": [
    "df_selection = df.dropna().copy()\n",
    "df_selection['Domains'] = df_selection['Domains'].astype('category').cat.codes\n",
    "df_selection['Mechanics_Categories'] = df_selection['Mechanics_Categories'].astype('category').cat.codes\n",
    "\n",
    "df_selection.drop(columns=['Strategy Games', 'Abstract Games', 'Thematic Games', 'Party Games', 'Wargames', 'Customizable Games', 'Children\\'s Games', 'Family Games', 'Other', 'Action and Turn Management', 'Resource Management', 'Interaction and Conflict', 'Game Progression and Mechanics', 'Auxiliary Mechanics', 'Narrative and Thematic', 'Movement and Positioning', 'Other', 'Specialized Mechanics', 'Strategic Elements'], inplace=True)"
   ],
   "id": "6506d2852fcfe6b5",
   "outputs": [],
   "execution_count": null
  },
  {
   "metadata": {},
   "cell_type": "code",
   "source": "correlation_matrix = df_selection.corr()",
   "id": "7d7b8a0a0fddca31",
   "outputs": [],
   "execution_count": null
  },
  {
   "metadata": {},
   "cell_type": "markdown",
   "source": [
    "### Feature selection Complexity Average\n",
    "#### Correlation scores"
   ],
   "id": "d4266f999868e72c"
  },
  {
   "metadata": {},
   "cell_type": "code",
   "source": [
    "correlation_matrix_complexity = correlation_matrix['Complexity Average'].sort_values(ascending=False)\n",
    "correlation_matrix_complexity"
   ],
   "id": "50ed6f371bac8df3",
   "outputs": [],
   "execution_count": null
  },
  {
   "metadata": {},
   "cell_type": "markdown",
   "source": "#### F-Test scores",
   "id": "174d25616205f395"
  },
  {
   "metadata": {},
   "cell_type": "code",
   "source": [
    "X_complexity = df_selection.drop(columns=['Complexity Average'])\n",
    "y_complexity = df_selection['Complexity Average']\n",
    "\n",
    "f_scores_complexity, p_values_complexity = f_regression(X_complexity, y_complexity)\n",
    "\n",
    "f_test_results_complexity = pd.DataFrame({'Feature': X_complexity.columns, 'F-Score': f_scores_complexity, 'P-Value': p_values_complexity})\n",
    "f_test_results_complexity = f_test_results_complexity.sort_values(by='F-Score', ascending=False)\n",
    "\n",
    "f_test_results_complexity"
   ],
   "id": "775a95230d686a02",
   "outputs": [],
   "execution_count": null
  },
  {
   "metadata": {},
   "cell_type": "markdown",
   "source": "#### Mutual Information scores",
   "id": "56e50479aafc3478"
  },
  {
   "metadata": {},
   "cell_type": "code",
   "source": [
    "X_complexity_mi = df_selection.drop(columns=['Complexity Average']).values\n",
    "y_complexity_mi = df_selection['Complexity Average'].values\n",
    "\n",
    "mutual_info_complexity = mutual_info_regression(X_complexity_mi, y_complexity_mi, random_state=42, n_neighbors=5, discrete_features='auto')\n",
    "\n",
    "mutual_info_results_complexity = pd.DataFrame({\n",
    "    'Feature': df_selection.drop(columns=['Complexity Average']).columns,\n",
    "    'Mutual Information': mutual_info_complexity\n",
    "})\n",
    "\n",
    "mutual_info_results_complexity = mutual_info_results_complexity.sort_values(by='Mutual Information', ascending=False)\n",
    "mutual_info_results_complexity"
   ],
   "id": "c944c6335f4ab5e1",
   "outputs": [],
   "execution_count": null
  },
  {
   "metadata": {},
   "cell_type": "markdown",
   "source": "#### Exporting the best fitted features for the Complexity Average",
   "id": "414dc1d076013bae"
  },
  {
   "metadata": {},
   "cell_type": "code",
   "source": [
    "# The best features are the ones with the highest mutual information scores, correlation scores and F-Test scores\n",
    "# I chose the one that seemed best fitted for the model\n",
    "df_selected_features_complexity = df.copy().dropna()\n",
    "df_selected_features_complexity = df_selected_features_complexity.drop(columns=['Min Players', 'Max Players', 'Users Rated', 'Owned Users', 'Domains', 'Mechanics_Categories', 'Owned Users'])\n",
    "df_selected_features_complexity.to_excel('./data/Selected_Features_Complexity_Average.xlsx', index=False)"
   ],
   "id": "668fce35c55fc38f",
   "outputs": [],
   "execution_count": null
  },
  {
   "metadata": {},
   "cell_type": "markdown",
   "source": [
    "### Rating Average & Owned Users\n",
    "#### Correlation scores"
   ],
   "id": "77122cc1c67fe436"
  },
  {
   "metadata": {},
   "cell_type": "code",
   "source": [
    "correlation_matrix_rating = correlation_matrix['Rating Average'].sort_values(ascending=False)\n",
    "correlation_matrix_rating"
   ],
   "id": "af256478fad2a33a",
   "outputs": [],
   "execution_count": null
  },
  {
   "metadata": {},
   "cell_type": "code",
   "source": [
    "correlation_matrix_owned = correlation_matrix['Owned Users'].sort_values(ascending=False)\n",
    "correlation_matrix_owned"
   ],
   "id": "48a1071facffb17a",
   "outputs": [],
   "execution_count": null
  },
  {
   "metadata": {},
   "cell_type": "markdown",
   "source": "#### F-Test scores",
   "id": "499f442dc8f11be2"
  },
  {
   "metadata": {},
   "cell_type": "code",
   "source": [
    "X_rating = df_selection.drop(columns=['Rating Average'])\n",
    "y_rating = df_selection['Rating Average']\n",
    "\n",
    "f_scores_rating, p_values_rating = f_regression(X_rating, y_rating)\n",
    "\n",
    "f_test_results_rating = pd.DataFrame({'Feature': X_rating.columns, 'F-Score': f_scores_rating, 'P-Value': p_values_rating})\n",
    "f_test_results_rating = f_test_results_rating.sort_values(by='F-Score', ascending=False)\n",
    "\n",
    "f_test_results_rating"
   ],
   "id": "822aa88392680779",
   "outputs": [],
   "execution_count": null
  },
  {
   "metadata": {},
   "cell_type": "code",
   "source": [
    "X_owned = df_selection.drop(columns=['Owned Users'])\n",
    "y_owned = df_selection['Owned Users']\n",
    "\n",
    "f_scores_owned, p_values_owned = f_regression(X_owned, y_owned)\n",
    "\n",
    "f_test_results_owned = pd.DataFrame({'Feature': X_owned.columns, 'F-Score': f_scores_owned, 'P-Value': p_values_owned})\n",
    "f_test_results_owned = f_test_results_owned.sort_values(by='F-Score', ascending=False)\n",
    "\n",
    "f_test_results_owned"
   ],
   "id": "948826c921fb25e0",
   "outputs": [],
   "execution_count": null
  },
  {
   "metadata": {},
   "cell_type": "markdown",
   "source": "#### Mutual Information scores",
   "id": "81dccade7d9b8c37"
  },
  {
   "metadata": {},
   "cell_type": "code",
   "source": [
    "X_rating_mi = df_selection.drop(columns=['Rating Average']).values\n",
    "y_rating_mi = df_selection['Rating Average'].values\n",
    "\n",
    "mutual_info_rating = mutual_info_regression(X_rating_mi, y_rating_mi, random_state=42, n_neighbors=5, discrete_features='auto')\n",
    "\n",
    "mutual_info_results_rating = pd.DataFrame({\n",
    "    'Feature': df_selection.drop(columns=['Rating Average']).columns,\n",
    "    'Mutual Information': mutual_info_rating\n",
    "})\n",
    "\n",
    "mutual_info_results_rating = mutual_info_results_rating.sort_values(by='Mutual Information', ascending=False)\n",
    "mutual_info_results_rating"
   ],
   "id": "27da931ee36681b",
   "outputs": [],
   "execution_count": null
  },
  {
   "metadata": {},
   "cell_type": "code",
   "source": [
    "X_owned_mi = df_selection.drop(columns=['Owned Users']).values\n",
    "y_owned_mi = df_selection['Owned Users'].values\n",
    "\n",
    "mutual_info_owned = mutual_info_regression(X_owned_mi, y_owned_mi, random_state=42, n_neighbors=5, discrete_features='auto')\n",
    "\n",
    "mutual_info_results_owned = pd.DataFrame({\n",
    "    'Feature': df_selection.drop(columns=['Owned Users']).columns,\n",
    "    'Mutual Information': mutual_info_owned\n",
    "})\n",
    "\n",
    "mutual_info_results_owned = mutual_info_results_owned.sort_values(by='Mutual Information', ascending=False)\n",
    "mutual_info_results_owned"
   ],
   "id": "3a0850957b6645ee",
   "outputs": [],
   "execution_count": null
  },
  {
   "metadata": {},
   "cell_type": "markdown",
   "source": "#### Exporting the best fitted features for the owned users",
   "id": "b74ab7fbd89dbae2"
  },
  {
   "metadata": {},
   "cell_type": "code",
   "source": [
    "# The best features are the ones with the highest mutual information scores, correlation scores and F-Test scores\n",
    "# I chose the one that seemed best fitted for the model\n",
    "df_selected_features_owned_users = df[['Specialized Mechanics', 'Interaction and Conflict' , 'Strategic Elements', 'Other', 'Game Progression and Mechanics', 'Action and Turn Management', 'Resource Management', 'Auxiliary Mechanics', 'Movement and Positioning', 'Narrative and Thematic', 'Min Age', 'Owned Users', 'Rating Average', 'Users Rated', 'Strategy Games', 'Thematic Games', 'Wargames', 'Family Games', 'Customizable Games', 'Children\\'s Games' ,'Abstract Games', 'Party Games']]\n",
    "df_selected_features_owned_users.to_excel('./data/Selected_Features_Owned_Users.xlsx', index=False)"
   ],
   "id": "b9fe8b68653addd8",
   "outputs": [],
   "execution_count": null
  },
  {
   "metadata": {},
   "cell_type": "markdown",
   "source": "#### Exporting the best fitted features for the average rating",
   "id": "ec5f387abaf362cd"
  },
  {
   "metadata": {},
   "cell_type": "code",
   "source": [
    "# The best features are the ones with the highest mutual information scores, correlation scores and F-Test scores\n",
    "# I chose the one that seemed best fitted for the model\n",
    "df_selected_features_rating_average = df[['Specialized Mechanics', 'Interaction and Conflict' , 'Strategic Elements', 'Other', 'Game Progression and Mechanics', 'Action and Turn Management', 'Resource Management', 'Auxiliary Mechanics', 'Movement and Positioning', 'Narrative and Thematic', 'Min Age', 'Rating Average', 'Users Rated', 'Play Time']]\n",
    "df_selected_features_rating_average.to_excel('./data/Selected_Features_Rating_Average.xlsx', index=False)"
   ],
   "id": "9bede4d5ce238b8d",
   "outputs": [],
   "execution_count": null
  }
 ],
 "metadata": {
  "kernelspec": {
   "display_name": "Python 3",
   "language": "python",
   "name": "python3"
  },
  "language_info": {
   "codemirror_mode": {
    "name": "ipython",
    "version": 2
   },
   "file_extension": ".py",
   "mimetype": "text/x-python",
   "name": "python",
   "nbconvert_exporter": "python",
   "pygments_lexer": "ipython2",
   "version": "2.7.6"
  }
 },
 "nbformat": 4,
 "nbformat_minor": 5
}
