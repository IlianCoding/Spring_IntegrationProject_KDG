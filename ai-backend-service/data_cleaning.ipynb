{
 "cells": [
  {
   "cell_type": "code",
   "id": "initial_id",
   "metadata": {
    "collapsed": true
   },
   "source": [
    "import numpy as np\n",
    "import pandas as pd\n",
    "import math\n",
    "import joblib\n",
    "\n",
    "from scripts.mechanics_reduction import map_mechanics_to_categories\n",
    "from scripts.mechanics_reduction import MechanicClustering\n",
    "from scripts.average_rating_conversion import clean_rating_column\n",
    "from scripts.time_conversion import convert_publish_year\n",
    "from scripts.time_conversion import convert_playtime_column\n",
    "from scripts.outliers_removal import clean_min_player\n",
    "from scripts.outliers_removal import clean_max_player"
   ],
   "outputs": [],
   "execution_count": null
  },
  {
   "metadata": {},
   "cell_type": "markdown",
   "source": [
    "# Data Cleaning\n",
    "## Loading the necessary data and models"
   ],
   "id": "f7e0d7089ae2007f"
  },
  {
   "metadata": {},
   "cell_type": "code",
   "source": "df = pd.read_excel('./data/BGG_Data_Set.xlsx')",
   "id": "c130e8f4e91ab074",
   "outputs": [],
   "execution_count": null
  },
  {
   "metadata": {},
   "cell_type": "code",
   "source": [
    "domain_imputing_model = joblib.load('./models/saved/domain_imputing/Multi_Output_LightGBM.pkl')\n",
    "mechanics_imputing_model = joblib.load('./models/saved/mechanics_imputing/multi_output_classifier_weighted_custom.pkl')"
   ],
   "id": "b3a66b6d25504f8a",
   "outputs": [],
   "execution_count": null
  },
  {
   "metadata": {},
   "cell_type": "markdown",
   "source": [
    "# Duplicates\n",
    "#### Dropping possible duplicates"
   ],
   "id": "8eae7354a3a0b574"
  },
  {
   "metadata": {},
   "cell_type": "code",
   "source": [
    "print(f\"Number of rows before dropping duplicates: {df.shape[0]}\")\n",
    "print(f\"Number of duplicates: {df.duplicated().sum()}\")\n",
    "df = df.drop_duplicates()\n",
    "print(f\"Number of rows after dropping duplicates: {df.shape[0]}\")"
   ],
   "id": "7ca7b0f540126754",
   "outputs": [],
   "execution_count": null
  },
  {
   "metadata": {},
   "cell_type": "markdown",
   "source": [
    "# Irrelevant columns\n",
    "#### Dropping irrelevant columns"
   ],
   "id": "1390eaf19bd148fe"
  },
  {
   "metadata": {},
   "cell_type": "code",
   "source": "df = df.drop(columns=['ID', 'Name', 'BGG Rank'])",
   "id": "d617e799354ab14e",
   "outputs": [],
   "execution_count": null
  },
  {
   "metadata": {},
   "cell_type": "markdown",
   "source": [
    "# Converting non-numerical Columns\n",
    "#### Identifying possible non-numerical columns"
   ],
   "id": "f56f0f8d01852539"
  },
  {
   "metadata": {},
   "cell_type": "code",
   "source": "df.dtypes",
   "id": "43d5d484d862f3e0",
   "outputs": [],
   "execution_count": null
  },
  {
   "metadata": {},
   "cell_type": "markdown",
   "source": "#### Converting the year published column",
   "id": "2a2813b2db7c44da"
  },
  {
   "metadata": {},
   "cell_type": "code",
   "source": "df = convert_publish_year(df, 'Year Published')",
   "id": "8ec450425ae92ea2",
   "outputs": [],
   "execution_count": null
  },
  {
   "metadata": {},
   "cell_type": "markdown",
   "source": "#### Converting the playtime column",
   "id": "92b685d85fed6774"
  },
  {
   "metadata": {},
   "cell_type": "code",
   "source": "df = convert_playtime_column(df, 'Play Time')",
   "id": "60700a7d1163638c",
   "outputs": [],
   "execution_count": null
  },
  {
   "metadata": {},
   "cell_type": "markdown",
   "source": "#### Converting the average rating column",
   "id": "abd9f1a1b5394ab5"
  },
  {
   "metadata": {},
   "cell_type": "code",
   "source": "df = clean_rating_column(df, 'Rating Average')",
   "id": "13c345094e4771ce",
   "outputs": [],
   "execution_count": null
  },
  {
   "metadata": {},
   "cell_type": "markdown",
   "source": [
    "# Handling outliers\n",
    "#### Checking for possible outliers"
   ],
   "id": "2834467c2f2dea2d"
  },
  {
   "metadata": {},
   "cell_type": "code",
   "source": "df.describe()",
   "id": "3e919b8e0c7aa588",
   "outputs": [],
   "execution_count": null
  },
  {
   "metadata": {},
   "cell_type": "markdown",
   "source": "#### Handling outliers in the average minimum players column",
   "id": "db104c828a40680e"
  },
  {
   "metadata": {},
   "cell_type": "code",
   "source": [
    "print(f\"Number of rows before cleaning the Min Players column: {df.shape[0]}\")\n",
    "df = clean_min_player(df, column_name='Min Players')\n",
    "print(f\"Number of rows after cleaning the Min Players column: {df.shape[0]}\")"
   ],
   "id": "8f66a08f4dd95f50",
   "outputs": [],
   "execution_count": null
  },
  {
   "metadata": {},
   "cell_type": "markdown",
   "source": "#### Handling outliers in the maximum players column",
   "id": "839703382a4267e6"
  },
  {
   "metadata": {},
   "cell_type": "code",
   "source": [
    "print(f\"Number of rows before cleaning the Max Players column: {df.shape[0]}\")\n",
    "df = clean_max_player(df, column_name='Max Players', compare_column='Min Players')\n",
    "print(f\"Number of rows after cleaning the Max Players column: {df.shape[0]}\")"
   ],
   "id": "73bffdf5e74515c",
   "outputs": [],
   "execution_count": null
  },
  {
   "metadata": {},
   "cell_type": "markdown",
   "source": [
    "# Handling missing values\n",
    "#### Checking for missing values"
   ],
   "id": "7ecbdf35d02117e9"
  },
  {
   "metadata": {},
   "cell_type": "code",
   "source": "df.isna().sum().sort_values(ascending=False)",
   "id": "50cc694386d207df",
   "outputs": [],
   "execution_count": null
  },
  {
   "metadata": {},
   "cell_type": "markdown",
   "source": "#### Checking the percentage of missing values for each column",
   "id": "b94a734c7a795da7"
  },
  {
   "metadata": {},
   "cell_type": "code",
   "source": [
    "# Calculate the percentage of missing values for each column\n",
    "missing_percentage = round(df.isna().sum() * 100 / len(df))\n",
    "\n",
    "# Print the percentage of missing values for each column\n",
    "print(\"Percentage of missing values for each column:\")\n",
    "missing_percentage.sort_values(ascending=False)"
   ],
   "id": "fcf43437e997bf18",
   "outputs": [],
   "execution_count": null
  },
  {
   "metadata": {},
   "cell_type": "markdown",
   "source": "#### Dropping rows with missing values for the Owned Users column",
   "id": "1443b5c8f5ddd51c"
  },
  {
   "metadata": {},
   "cell_type": "code",
   "source": [
    "print(f\"Number of rows before dropping missing values: {df.shape[0]}\")\n",
    "print(f\"Number of missing values in the Owned Users column: {df['Owned Users'].isna().sum()}\")\n",
    "df = df.dropna(subset=['Owned Users'])\n",
    "print(f\"Number of rows after dropping missing values: {df.shape[0]}\")"
   ],
   "id": "28049949f1825df5",
   "outputs": [],
   "execution_count": null
  },
  {
   "metadata": {},
   "cell_type": "markdown",
   "source": "#### Dropping rows with missing values for the Play Time and Rating Average columns",
   "id": "d9f382c286a1dbc9"
  },
  {
   "metadata": {},
   "cell_type": "code",
   "source": "# df = df.dropna(subset=['Play Time', 'Rating Average'], how='all')",
   "id": "b413d0550429b00a",
   "outputs": [],
   "execution_count": null
  },
  {
   "metadata": {},
   "cell_type": "markdown",
   "source": "#### Dropping the Year Published column because of the low correlation & low information gain with the target variables",
   "id": "73295cf6e3575478"
  },
  {
   "metadata": {},
   "cell_type": "code",
   "source": "df = df.drop(columns=['Year Published'])",
   "id": "6cae0c194d49c472",
   "outputs": [],
   "execution_count": null
  },
  {
   "metadata": {},
   "cell_type": "markdown",
   "source": [
    "# Cleaning categorical columns\n",
    "#### Identifying possible categorical columns"
   ],
   "id": "3cd996f3ea416372"
  },
  {
   "metadata": {},
   "cell_type": "code",
   "source": [
    "categorical_columns = df.select_dtypes(include=['object', 'category']).columns\n",
    "print(\"Categorical columns: \")\n",
    "print(categorical_columns)"
   ],
   "id": "2b0b31c4bdce05d6",
   "outputs": [],
   "execution_count": null
  },
  {
   "metadata": {},
   "cell_type": "code",
   "source": [
    "# This is not correct because the Domains and Mechanics columns are not split yet\n",
    "print(f\"Number of unique values in the Domains column: {df['Domains'].nunique()}\")\n",
    "print(f\"Number of unique values in the Mechanics column: {df['Mechanics'].nunique()}\")"
   ],
   "id": "388a4f3ad368a47a",
   "outputs": [],
   "execution_count": null
  },
  {
   "metadata": {},
   "cell_type": "markdown",
   "source": [
    "## Converting the Domains column\n",
    "#### Splitting the Domains column"
   ],
   "id": "10eb30e6c146e56b"
  },
  {
   "metadata": {},
   "cell_type": "code",
   "source": [
    "def multi_hot_encoding_domains(df_to_use):\n",
    "    df_to_use['Domains'] = df_to_use['Domains'].fillna('Unknown')\n",
    "    df_to_use['Domains_split'] = df_to_use['Domains'].str.split(', ')\n",
    "\n",
    "    all_domains_multi_encoding = df_to_use['Domains_split'].explode().unique()\n",
    "    all_domains_multi_encoding = [domain for domain in all_domains_multi_encoding if domain != '']\n",
    "\n",
    "    for domain in all_domains_multi_encoding:\n",
    "        df_to_use[domain] = df_to_use['Domains_split'].apply(lambda x: 1 if domain in x else 0)\n",
    "\n",
    "    if 'Unknown' in df_to_use.columns:\n",
    "        df_to_use['Domains'] = df_to_use['Domains'].replace('Unknown', np.nan)\n",
    "        df_to_use = df_to_use.drop(columns=['Unknown'])\n",
    "        all_domains_multi_encoding.remove('Unknown')\n",
    "    df_to_use = df_to_use.drop(columns=['Domains_split'])\n",
    "    return df_to_use, all_domains_multi_encoding"
   ],
   "id": "4ffffa63f87d1ad8",
   "outputs": [],
   "execution_count": null
  },
  {
   "metadata": {},
   "cell_type": "code",
   "source": "df, all_domains = multi_hot_encoding_domains(df)",
   "id": "7e264277bcda7fd4",
   "outputs": [],
   "execution_count": null
  },
  {
   "metadata": {},
   "cell_type": "markdown",
   "source": [
    "## Converting the Mechanics column\n",
    "### Custom mechanics categories\n",
    "#### Converting the mechanics column into mapped clusters"
   ],
   "id": "90461ebd5dd56947"
  },
  {
   "metadata": {},
   "cell_type": "code",
   "source": [
    "df_custom = df.copy()\n",
    "df_custom['Mechanics_Categories'] = df['Mechanics'].apply(map_mechanics_to_categories)"
   ],
   "id": "8ed20b8fcdf4f606",
   "outputs": [],
   "execution_count": null
  },
  {
   "metadata": {},
   "cell_type": "markdown",
   "source": "#### Splitting the mechanics categories",
   "id": "fe53e7fb2878be8c"
  },
  {
   "metadata": {},
   "cell_type": "code",
   "source": [
    "def multi_hot_encoding_mechanics(df_to_use):\n",
    "    df_to_use['Mechanics_Categories'] = df_to_use['Mechanics_Categories'].fillna('Unknown')\n",
    "    df_to_use['Mechanics_Categories_split'] = df_to_use['Mechanics_Categories'].str.split(', ')\n",
    "\n",
    "    all_mechanics_multi_encoding = df_to_use['Mechanics_Categories_split'].explode().unique()\n",
    "    all_mechanics_multi_encoding = [mechanic for mechanic in all_mechanics_multi_encoding if mechanic != '']\n",
    "\n",
    "    for mechanic in all_mechanics_multi_encoding:\n",
    "        df_to_use[mechanic] = df_to_use['Mechanics_Categories_split'].apply(lambda x: 1 if mechanic in x else 0)\n",
    "\n",
    "    if 'Unknown' in df_to_use.columns:\n",
    "        df_to_use['Mechanics_Categories'] = df_to_use['Mechanics_Categories'].replace('Unknown', np.nan)\n",
    "        df_to_use = df_to_use.drop(columns=['Unknown'])\n",
    "        all_mechanics_multi_encoding.remove('Unknown')\n",
    "    df_to_use = df_to_use.drop(columns=['Mechanics_Categories_split'])\n",
    "    return df_to_use, all_mechanics_multi_encoding"
   ],
   "id": "a3ad6fb2d1351e9c",
   "outputs": [],
   "execution_count": null
  },
  {
   "metadata": {},
   "cell_type": "code",
   "source": "df_custom, all_mechanics = multi_hot_encoding_mechanics(df_custom)",
   "id": "b3970723036a3074",
   "outputs": [],
   "execution_count": null
  },
  {
   "metadata": {},
   "cell_type": "code",
   "source": "df_custom.to_excel('./data/BGG_Cleaned_Data_Set_Mechanics_Imputing_Custom.xlsx', index=False)",
   "id": "18612476f24ec616",
   "outputs": [],
   "execution_count": null
  },
  {
   "metadata": {},
   "cell_type": "markdown",
   "source": [
    "### Self generated clusters for the mechanics column\n",
    "#### Setting up the used models and the total list of mechanics"
   ],
   "id": "b4fef3444d108f08"
  },
  {
   "metadata": {},
   "cell_type": "code",
   "source": [
    "df_embeddings = df.copy()\n",
    "embedding_models = [\n",
    "    'all-MiniLM-L6-v2',\n",
    "    'all-mpnet-base-v2',\n",
    "    'paraphrase-MiniLM-L6-v2',\n",
    "    'multi-qa-MiniLM-L6-cos-v1',\n",
    "    'all-distilroberta-v1',\n",
    "    'all-roberta-large-v1',\n",
    "    'stsb-roberta-large'\n",
    "]\n",
    "\n",
    "all_mechanics_embedding = set()\n",
    "for mechanics in df_embeddings['Mechanics']:\n",
    "    if pd.notna(mechanics):\n",
    "        all_mechanics_embedding.update([m.strip() for m in mechanics.split(',')])\n",
    "\n",
    "all_mechanics_embedding = list(all_mechanics_embedding)\n",
    "print(f\"Total amount of mechanics: {len(all_mechanics_embedding)}\")"
   ],
   "id": "65cf924f9bf5f50a",
   "outputs": [],
   "execution_count": null
  },
  {
   "metadata": {},
   "cell_type": "markdown",
   "source": "#### Generating the embeddings",
   "id": "439498c81092e9e1"
  },
  {
   "metadata": {},
   "cell_type": "code",
   "source": [
    "mechanic_clusterer = MechanicClustering(all_mechanics_embedding, embedding_models=embedding_models)\n",
    "results = mechanic_clusterer.cluster_and_name_items(max_representatives=35)"
   ],
   "id": "b40981c3a425adc2",
   "outputs": [],
   "execution_count": null
  },
  {
   "metadata": {},
   "cell_type": "code",
   "source": "df_embeddings = mechanic_clusterer.map_to_clusters(df_embeddings, 'Mechanics')",
   "id": "3651990e58ddd436",
   "outputs": [],
   "execution_count": null
  },
  {
   "metadata": {},
   "cell_type": "code",
   "source": [
    "print(results['coverage_rate'])\n",
    "print(results['best_configuration'])\n",
    "df_embeddings"
   ],
   "id": "b3d700dc13e65bbd",
   "outputs": [],
   "execution_count": null
  },
  {
   "metadata": {},
   "cell_type": "markdown",
   "source": "#### Splitting the generated embeddings and removing all the unnecessary columns",
   "id": "87cb1cfb8dac54b7"
  },
  {
   "metadata": {},
   "cell_type": "code",
   "source": [
    "# Splitting the Mechanics_Categories column into a list of categories\n",
    "# Placeholder for the missing values\n",
    "df_embeddings['mechanic_cluster'] = df_embeddings['mechanic_cluster'].fillna('Unknown')\n",
    "df_embeddings['mechanic_cluster_split'] = df_embeddings['mechanic_cluster'].str.split(', ')\n",
    "\n",
    "# Multi-hot encoding the Mechanics_Categories column\n",
    "all_categories_embeddings = df_embeddings['mechanic_cluster_split'].explode().unique()\n",
    "all_categories_embeddings = [category for category in all_categories_embeddings if category != '']\n",
    "\n",
    "for category in all_categories_embeddings:\n",
    "    df_embeddings[category] = df_embeddings['mechanic_cluster_split'].apply(lambda x: 1 if category in x else 0)\n",
    "\n",
    "# Restoring NaN values in the original Mechanics_Categories column\n",
    "df_embeddings['mechanic_cluster'] = df_embeddings['mechanic_cluster'].replace('Unknown', np.nan)\n",
    "df_embeddings = df_embeddings.drop(columns=['Unknown', 'mechanic_cluster_split', 'Mechanics'])"
   ],
   "id": "7117cc1da8014751",
   "outputs": [],
   "execution_count": null
  },
  {
   "metadata": {},
   "cell_type": "code",
   "source": "df_embeddings.to_excel('./data/BGG_Cleaned_Data_Set_Mechanics_Imputing_Embedded.xlsx', index=False)",
   "id": "30197a8ecdcd2f52",
   "outputs": [],
   "execution_count": null
  },
  {
   "metadata": {},
   "cell_type": "markdown",
   "source": [
    "## Imputing missing values\n",
    "#### Checking for the columns with missing values"
   ],
   "id": "6f8b65bddd70a923"
  },
  {
   "metadata": {},
   "cell_type": "code",
   "source": "df_custom.isna().sum().sort_values(ascending=False)",
   "id": "f080f89d87b06e82",
   "outputs": [],
   "execution_count": null
  },
  {
   "metadata": {},
   "cell_type": "markdown",
   "source": "#### Imputing missing values in the Play Time column",
   "id": "9045f0b36b49a171"
  },
  {
   "metadata": {},
   "cell_type": "code",
   "source": [
    "# Using median imputation because of the presence of outliers\n",
    "df_custom['Play Time'] = df_custom['Play Time'].fillna(df_custom['Play Time'].median())"
   ],
   "id": "c59b8fbb57d2c6ff",
   "outputs": [],
   "execution_count": null
  },
  {
   "metadata": {},
   "cell_type": "markdown",
   "source": "#### Imputing missing values in the Rating Average column",
   "id": "bd86aab9be32dbf5"
  },
  {
   "metadata": {},
   "cell_type": "code",
   "source": [
    "# Using Mean imputation because of the normal distribution\n",
    "df_custom['Rating Average'] = df_custom['Rating Average'].fillna(df_custom['Rating Average'].mean())"
   ],
   "id": "a20320b6b11cf362",
   "outputs": [],
   "execution_count": null
  },
  {
   "metadata": {},
   "cell_type": "markdown",
   "source": "#### Imputing the missing values in the Domains columns",
   "id": "ac8b5d1694825132"
  },
  {
   "metadata": {},
   "cell_type": "code",
   "source": [
    "def multi_hot_encoding_to_string_domains(row):\n",
    "    domains = []\n",
    "    for domain in all_domains:\n",
    "        if row[domain] == 1:\n",
    "            domains.append(domain)\n",
    "    return ', '.join(domains) if domains else np.nan"
   ],
   "id": "3adec56c5dc7e9ad",
   "outputs": [],
   "execution_count": null
  },
  {
   "metadata": {},
   "cell_type": "code",
   "source": [
    "needed_features_domains = ['Complexity Average', 'Min Age', 'Play Time', 'Max Players', 'Users Rated', 'Owned Users']\n",
    "missing_domains = df_custom[df_custom['Domains'].isna()]"
   ],
   "id": "748397657d25ba5b",
   "outputs": [],
   "execution_count": null
  },
  {
   "metadata": {},
   "cell_type": "code",
   "source": [
    "domain_imputing_results = domain_imputing_model.predict(missing_domains[needed_features_domains])\n",
    "domain_imputing_results = pd.DataFrame(domain_imputing_results, columns=all_domains)"
   ],
   "id": "b33ff0662d366901",
   "outputs": [],
   "execution_count": null
  },
  {
   "metadata": {},
   "cell_type": "code",
   "source": "missing_domains.loc[:, 'Domains'] = pd.DataFrame(domain_imputing_results).apply(multi_hot_encoding_to_string_domains, axis=1)",
   "id": "d22760457dd6e21e",
   "outputs": [],
   "execution_count": null
  },
  {
   "metadata": {},
   "cell_type": "code",
   "source": "df_custom.loc[missing_domains.index, 'Domains'] = missing_domains['Domains']",
   "id": "89a5ad2e6a3d415d",
   "outputs": [],
   "execution_count": null
  },
  {
   "metadata": {},
   "cell_type": "markdown",
   "source": "#### Imputing the missing values in the mechanics columns using default domain imputation",
   "id": "d06bef55900fd5a7"
  },
  {
   "metadata": {},
   "cell_type": "code",
   "source": "remaining_missing_domains = df_custom[df_custom['Domains'].isna()]",
   "id": "6079e7bb4fb1f920",
   "outputs": [],
   "execution_count": null
  },
  {
   "metadata": {},
   "cell_type": "code",
   "source": [
    "probability_domains = domain_imputing_model.predict(remaining_missing_domains[needed_features_domains])\n",
    "predicted_probabilities_df = pd.DataFrame(probability_domains, columns=all_domains, index=remaining_missing_domains.index)\n",
    "predicted_domains = predicted_probabilities_df.idxmax(axis=1)"
   ],
   "id": "7dc5d3f68c612858",
   "outputs": [],
   "execution_count": null
  },
  {
   "metadata": {},
   "cell_type": "code",
   "source": [
    "df_custom.loc[remaining_missing_domains.index, 'Domains'] = predicted_domains\n",
    "print(f\"Number of missing values in the Domains column: {df_custom['Domains'].isna().sum()}\")"
   ],
   "id": "bfd3393389ce03b3",
   "outputs": [],
   "execution_count": null
  },
  {
   "metadata": {},
   "cell_type": "code",
   "source": [
    "df_custom.drop(columns=all_domains, inplace=True)\n",
    "df_custom = multi_hot_encoding_domains(df_custom)[0]"
   ],
   "id": "75e7972fe5c8496f",
   "outputs": [],
   "execution_count": null
  },
  {
   "metadata": {},
   "cell_type": "code",
   "source": "df_custom.to_excel('./data/BGG_Cleaned_Data_Set_Mechanics_Imputing_Custom_Imputed_Domains.xlsx', index=False)",
   "id": "8cf082c4020839b",
   "outputs": [],
   "execution_count": null
  },
  {
   "metadata": {},
   "cell_type": "markdown",
   "source": "#### Imputing the missing values in the Mechanics_Categories column using a custom imputation model",
   "id": "35c90bb0744df417"
  },
  {
   "metadata": {},
   "cell_type": "code",
   "source": [
    "all_mechanics_categories = list(df_custom['Mechanics_Categories'].str.split(', ').explode().unique())\n",
    "all_mechanics_categories = [item for item in all_mechanics_categories if not (isinstance(item, float) and math.isnan(item))]\n",
    "\n",
    "def multi_hot_encoding_to_string_mechanics(row):\n",
    "    mechanics_list = []\n",
    "    for mechanic in all_mechanics_categories:\n",
    "        if row[mechanic] == 1:\n",
    "            mechanics_list.append(mechanic)\n",
    "    return ', '.join(mechanics_list) if mechanics else np.nan"
   ],
   "id": "8e2ae6b651ae51cf",
   "outputs": [],
   "execution_count": null
  },
  {
   "metadata": {},
   "cell_type": "code",
   "source": [
    "needed_features_mechanics = ['Strategy Games', 'Thematic Games', 'Wargames', 'Family Games',\n",
    "       'Customizable Games', 'Children\\'s Games', 'Abstract Games',\n",
    "       'Party Games', 'Complexity Average', 'Play Time', 'Max Players',\n",
    "       'Min Age']\n",
    "missing_mechanics = df_custom[df_custom['Mechanics_Categories'].isna()]"
   ],
   "id": "5d6a9a4a5d4b7ec6",
   "outputs": [],
   "execution_count": null
  },
  {
   "metadata": {},
   "cell_type": "code",
   "source": [
    "mechanics_imputing_result = mechanics_imputing_model.predict(missing_mechanics[needed_features_mechanics])\n",
    "mechanics_imputing_result = pd.DataFrame(mechanics_imputing_result.squeeze(), columns=all_mechanics_categories)"
   ],
   "id": "f3a5b194f9661bd6",
   "outputs": [],
   "execution_count": null
  },
  {
   "metadata": {},
   "cell_type": "code",
   "source": "missing_mechanics.loc[:, 'Mechanics_Categories'] = pd.DataFrame(mechanics_imputing_result).apply(multi_hot_encoding_to_string_mechanics, axis=1)",
   "id": "97c67f79d2068a7e",
   "outputs": [],
   "execution_count": null
  },
  {
   "metadata": {},
   "cell_type": "code",
   "source": "df_custom.loc[missing_mechanics.index, 'Mechanics_Categories'] = missing_mechanics['Mechanics_Categories']",
   "id": "edffa5c74833dec8",
   "outputs": [],
   "execution_count": null
  },
  {
   "metadata": {},
   "cell_type": "markdown",
   "source": "#### Imputing the missing values in the mechanics columns using default mechanics imputation",
   "id": "48efa5c2eb7288e8"
  },
  {
   "metadata": {},
   "cell_type": "code",
   "source": "remaining_missing_mechanics = df_custom[df_custom['Mechanics_Categories'].isna()]",
   "id": "f8cdebaa0921deb2",
   "outputs": [],
   "execution_count": null
  },
  {
   "metadata": {},
   "cell_type": "code",
   "source": [
    "probability_mechanics = mechanics_imputing_model.predict(remaining_missing_mechanics[needed_features_mechanics])\n",
    "predicted_probabilities_mechanics_df = pd.DataFrame(probability_mechanics.squeeze(), columns=all_mechanics_categories, index=remaining_missing_mechanics.index)\n",
    "predicted_mechanics = predicted_probabilities_mechanics_df.idxmax(axis=1)"
   ],
   "id": "bc6b2dc477d5dab9",
   "outputs": [],
   "execution_count": null
  },
  {
   "metadata": {},
   "cell_type": "code",
   "source": [
    "df_custom.loc[remaining_missing_mechanics.index, 'Mechanics_Categories'] = predicted_mechanics\n",
    "print(f\"Number of missing values in the Mechanics_Categories column: {df_custom['Mechanics_Categories'].isna().sum()}\")"
   ],
   "id": "d1709346c48020ef",
   "outputs": [],
   "execution_count": null
  },
  {
   "metadata": {},
   "cell_type": "code",
   "source": [
    "df_custom.drop(columns=all_mechanics_categories, inplace=True)\n",
    "df_custom.drop(columns=['Mechanics'], inplace=True)\n",
    "df_custom.dropna(subset=['Mechanics_Categories'], inplace=True)\n",
    "df_custom = multi_hot_encoding_mechanics(df_custom)[0]"
   ],
   "id": "e75a92a96e37a955",
   "outputs": [],
   "execution_count": null
  },
  {
   "metadata": {},
   "cell_type": "code",
   "source": "df_custom.to_excel('./data/BGG_Complete_Cleaned_Dataset.xlsx', index=False)",
   "id": "cc165846d5487bb9",
   "outputs": [],
   "execution_count": null
  }
 ],
 "metadata": {
  "kernelspec": {
   "display_name": "Python 3",
   "language": "python",
   "name": "python3"
  },
  "language_info": {
   "codemirror_mode": {
    "name": "ipython",
    "version": 2
   },
   "file_extension": ".py",
   "mimetype": "text/x-python",
   "name": "python",
   "nbconvert_exporter": "python",
   "pygments_lexer": "ipython2",
   "version": "2.7.6"
  }
 },
 "nbformat": 4,
 "nbformat_minor": 5
}
