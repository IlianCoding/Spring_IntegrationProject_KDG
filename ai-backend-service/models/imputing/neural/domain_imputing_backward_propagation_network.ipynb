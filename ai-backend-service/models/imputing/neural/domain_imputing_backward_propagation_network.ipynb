{
 "cells": [
  {
   "cell_type": "code",
   "id": "initial_id",
   "metadata": {
    "collapsed": true
   },
   "source": [
    "import numpy as np\n",
    "import pandas as pd\n",
    "import seaborn as sns\n",
    "import matplotlib.pyplot as plt\n",
    "import joblib\n",
    "\n",
    "from keras.src.callbacks import LearningRateScheduler, EarlyStopping\n",
    "from sklearn.metrics import accuracy_score, classification_report, confusion_matrix, multilabel_confusion_matrix, \\\n",
    "    mean_absolute_error, mean_squared_error, r2_score\n",
    "from sklearn.model_selection import train_test_split\n",
    "from sklearn.preprocessing import StandardScaler\n",
    "from sklearn.pipeline import Pipeline\n",
    "from scikeras.wrappers import KerasClassifier\n",
    "from sklearn.neural_network import MLPRegressor"
   ],
   "outputs": [],
   "execution_count": null
  },
  {
   "metadata": {},
   "cell_type": "markdown",
   "source": [
    "# Domains column Imputing\n",
    "## Loading the dataset"
   ],
   "id": "f3aadaed4edddeac"
  },
  {
   "metadata": {},
   "cell_type": "code",
   "source": "df = pd.read_excel('../../../data/BGG_Cleaned_Data_Set_Imputing.xlsx')",
   "id": "94bc0d9c94aec1bf",
   "outputs": [],
   "execution_count": null
  },
  {
   "metadata": {},
   "cell_type": "markdown",
   "source": [
    "## Data preparation\n",
    "#### Splitting the data"
   ],
   "id": "2ad6c265013e8a74"
  },
  {
   "metadata": {},
   "cell_type": "code",
   "source": [
    "targets = ['Strategy Games', 'Thematic Games', 'Wargames', 'Unknown', 'Family Games', 'Customizable Games',\n",
    "           'Abstract Games', 'Party Games', 'Children\\'s Games']\n",
    "\n",
    "X = df.drop(targets, axis=1)\n",
    "y = df[targets]\n",
    "\n",
    "X_train, X_test, y_train, y_test = train_test_split(X, y, test_size=0.2, random_state=42)"
   ],
   "id": "8526668a7368892c",
   "outputs": [],
   "execution_count": null
  },
  {
   "metadata": {},
   "cell_type": "markdown",
   "source": "#### Defining FNN model",
   "id": "4a396fa953161e1c"
  },
  {
   "metadata": {},
   "cell_type": "code",
   "source": [
    "def create_bpnn():\n",
    "    model = MLPRegressor(\n",
    "        hidden_layer_sizes=(4096, 2056, 1028, 512, 256),\n",
    "        activation='relu',\n",
    "        solver='adam',\n",
    "        max_iter=25,\n",
    "        early_stopping=True,\n",
    "        validation_fraction=0.1,\n",
    "        n_iter_no_change=5,\n",
    "        random_state=42\n",
    "    )\n",
    "    return model"
   ],
   "id": "a8bde5b4f91c4c69",
   "outputs": [],
   "execution_count": null
  },
  {
   "metadata": {},
   "cell_type": "markdown",
   "source": "#### Early stopping",
   "id": "609756b02af03e2b"
  },
  {
   "metadata": {},
   "cell_type": "code",
   "source": "early_stopping = EarlyStopping(monitor='val_loss', patience=10, restore_best_weights=True)",
   "id": "d080b80632f2a614",
   "outputs": [],
   "execution_count": null
  },
  {
   "metadata": {},
   "cell_type": "markdown",
   "source": "#### Learning rate scheduler",
   "id": "24166eeb6dccc193"
  },
  {
   "metadata": {},
   "cell_type": "code",
   "source": [
    "def scheduler(epoch, lr):\n",
    "    if epoch > 13:\n",
    "        return lr * 0.5\n",
    "    return lr"
   ],
   "id": "ddadbf2eccbb4c13",
   "outputs": [],
   "execution_count": null
  },
  {
   "metadata": {},
   "cell_type": "markdown",
   "source": "#### Callbacks for the lr adjustment",
   "id": "fd0a0e5dc7d47b89"
  },
  {
   "metadata": {},
   "cell_type": "code",
   "source": "callbacks = [LearningRateScheduler(scheduler), early_stopping]",
   "id": "744edb2125e162b9",
   "outputs": [],
   "execution_count": null
  },
  {
   "metadata": {},
   "cell_type": "markdown",
   "source": "#### Setting up the pipeline",
   "id": "e17f1f845f0f2f90"
  },
  {
   "metadata": {},
   "cell_type": "code",
   "source": [
    "pipeline = Pipeline([\n",
    "    ('scaler', StandardScaler()),\n",
    "    ('clf', create_bpnn())\n",
    "])"
   ],
   "id": "40d4efcd7ff33ad2",
   "outputs": [],
   "execution_count": null
  },
  {
   "metadata": {},
   "cell_type": "markdown",
   "source": "#### Training the model",
   "id": "7cd0c786950ab2d7"
  },
  {
   "metadata": {},
   "cell_type": "code",
   "source": "pipeline.fit(X_train, y_train)",
   "id": "6dba293839f39b0a",
   "outputs": [],
   "execution_count": null
  },
  {
   "metadata": {},
   "cell_type": "markdown",
   "source": "#### Make predictions",
   "id": "9e55824ef1437f8f"
  },
  {
   "metadata": {},
   "cell_type": "code",
   "source": "y_pred = pipeline.predict(X_test)",
   "id": "dc1bb50922a4a1de",
   "outputs": [],
   "execution_count": null
  },
  {
   "metadata": {},
   "cell_type": "markdown",
   "source": [
    "## Model evaluation\n",
    "#### Regression metrics"
   ],
   "id": "4dffef0adbd43e56"
  },
  {
   "metadata": {},
   "cell_type": "code",
   "source": [
    "mae = mean_absolute_error(y_test, y_pred)\n",
    "mse = mean_squared_error(y_test, y_pred)\n",
    "rmse = np.sqrt(mse)\n",
    "r2 = r2_score(y_test, y_pred)\n",
    "\n",
    "print(f'Mean Absolute Error: {mae}')\n",
    "print(f'Mean Squared Error: {mse}')\n",
    "print(f'Root Mean Squared Error: {rmse}')\n",
    "print(f'R2 Score: {r2}')"
   ],
   "id": "2f08ed3903e2c9d1",
   "outputs": [],
   "execution_count": null
  },
  {
   "metadata": {},
   "cell_type": "markdown",
   "source": "## Saving the model",
   "id": "f597db954259a39c"
  },
  {
   "metadata": {},
   "cell_type": "code",
   "source": "joblib.dump(pipeline, '../../../models/saved/domain_imputing_backward_propagation_model.pkl')",
   "id": "faa72b4553049aef",
   "outputs": [],
   "execution_count": null
  }
 ],
 "metadata": {
  "kernelspec": {
   "display_name": "Python 3",
   "language": "python",
   "name": "python3"
  },
  "language_info": {
   "codemirror_mode": {
    "name": "ipython",
    "version": 2
   },
   "file_extension": ".py",
   "mimetype": "text/x-python",
   "name": "python",
   "nbconvert_exporter": "python",
   "pygments_lexer": "ipython2",
   "version": "2.7.6"
  }
 },
 "nbformat": 4,
 "nbformat_minor": 5
}
