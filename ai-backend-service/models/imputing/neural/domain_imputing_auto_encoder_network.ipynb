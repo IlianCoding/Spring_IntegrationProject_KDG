{
 "cells": [
  {
   "cell_type": "code",
   "id": "initial_id",
   "metadata": {
    "collapsed": true
   },
   "source": [
    "import pandas as pd\n",
    "import matplotlib.pyplot as plt\n",
    "import seaborn as sns\n",
    "\n",
    "from sklearn.metrics import multilabel_confusion_matrix, precision_recall_curve\n",
    "from tensorflow.keras.models import Model, Sequential\n",
    "from tensorflow.keras.layers import Input, Dense, Dropout\n",
    "from tensorflow.keras.callbacks import EarlyStopping\n",
    "from sklearn.model_selection import train_test_split\n",
    "from sklearn.preprocessing import StandardScaler"
   ],
   "outputs": [],
   "execution_count": null
  },
  {
   "metadata": {},
   "cell_type": "markdown",
   "source": [
    "# Auto encoder network for imputing the domain feature\n",
    "## Load in the data"
   ],
   "id": "e2d226c3b21bfe3f"
  },
  {
   "metadata": {},
   "cell_type": "code",
   "source": "df = pd.read_excel('../../../data/BGG_Cleaned_Data_Set_Imputing.xlsx')",
   "id": "79c46ba6b1a2c1fa",
   "outputs": [],
   "execution_count": null
  },
  {
   "metadata": {},
   "cell_type": "markdown",
   "source": [
    "## Data preparation\n",
    "#### Splitting the data"
   ],
   "id": "8a6299c84cf5c64"
  },
  {
   "metadata": {},
   "cell_type": "code",
   "source": [
    "targets = ['Strategy Games', 'Thematic Games', 'Wargames', 'Unknown', 'Family Games', 'Customizable Games',\n",
    "           'Abstract Games', 'Party Games', 'Children\\'s Games']\n",
    "\n",
    "X = df.drop(targets, axis=1)\n",
    "y = df[targets]\n",
    "\n",
    "X_train, X_test, y_train, y_test = train_test_split(X, y, test_size=0.2, random_state=42)\n",
    "X_val, X_test, y_val, y_test = train_test_split(X_test, y_test, test_size=0.5, random_state=42)"
   ],
   "id": "926ae9d8f9610a2f",
   "outputs": [],
   "execution_count": null
  },
  {
   "metadata": {},
   "cell_type": "markdown",
   "source": "#### Standardize the features",
   "id": "f8366679b48a419a"
  },
  {
   "metadata": {},
   "cell_type": "code",
   "source": [
    "scaler = StandardScaler()\n",
    "X_train_scaled = scaler.fit_transform(X_train)\n",
    "X_val_scaled = scaler.transform(X_val)\n",
    "X_test_scaled = scaler.transform(X_test)"
   ],
   "id": "180d0e77431eef1",
   "outputs": [],
   "execution_count": null
  },
  {
   "metadata": {},
   "cell_type": "markdown",
   "source": [
    "## Building the auto encoder network\n",
    "#### Auto encoder network"
   ],
   "id": "9987f5cb292c93a2"
  },
  {
   "metadata": {},
   "cell_type": "code",
   "source": [
    "input_dim = X_train_scaled.shape[1]\n",
    "encoding_dim = 64"
   ],
   "id": "f0ecabab87870d08",
   "outputs": [],
   "execution_count": null
  },
  {
   "metadata": {},
   "cell_type": "markdown",
   "source": "#### Autoencoder architecture",
   "id": "1337f11aba71a97e"
  },
  {
   "metadata": {},
   "cell_type": "code",
   "source": [
    "input_layer = Input(shape=(input_dim,))\n",
    "encoded = Dense(128, activation='relu')(input_layer)\n",
    "encoded = Dense(encoding_dim, activation='relu')(encoded)\n",
    "decoded = Dense(128, activation='relu')(encoded)\n",
    "decoded = Dense(input_dim, activation='sigmoid')(decoded)\n",
    "\n",
    "autoencoder = Model(input_layer, decoded)\n",
    "autoencoder.compile(optimizer='adam', loss='mse')"
   ],
   "id": "acf46a5ff5f747ad",
   "outputs": [],
   "execution_count": null
  },
  {
   "metadata": {},
   "cell_type": "markdown",
   "source": "#### Training the auto encoder",
   "id": "a9f6af9d40aaa38d"
  },
  {
   "metadata": {},
   "cell_type": "code",
   "source": [
    "early_stopping = EarlyStopping(monitor='val_loss', patience=5, restore_best_weights=True)\n",
    "autoencoder.fit(X_train_scaled, X_train_scaled, validation_data=(X_val_scaled, X_val_scaled), epochs=50, batch_size=32, callbacks=[early_stopping])"
   ],
   "id": "ad578d05f8dd2343",
   "outputs": [],
   "execution_count": null
  },
  {
   "metadata": {},
   "cell_type": "markdown",
   "source": "#### Extracting the encoder part",
   "id": "1df4b930423ac8d6"
  },
  {
   "metadata": {},
   "cell_type": "code",
   "source": "autoencoder = Model(inputs=input_layer, outputs=encoded)",
   "id": "d753e9c4c87cf619",
   "outputs": [],
   "execution_count": null
  },
  {
   "metadata": {},
   "cell_type": "markdown",
   "source": "#### Transforming the input features using the encoder",
   "id": "fd3cf02783d09a4f"
  },
  {
   "metadata": {},
   "cell_type": "code",
   "source": [
    "X_train_encoded = autoencoder.predict(X_train_scaled)\n",
    "X_val_encoded = autoencoder.predict(X_val_scaled)\n",
    "X_test_encoded = autoencoder.predict(X_test_scaled)"
   ],
   "id": "e5458b4101031ff7",
   "outputs": [],
   "execution_count": null
  },
  {
   "metadata": {},
   "cell_type": "markdown",
   "source": [
    "## Building and training the classifier\n",
    "#### Building the classifier"
   ],
   "id": "20072e146e1ab8a5"
  },
  {
   "metadata": {},
   "cell_type": "code",
   "source": [
    "classifier = Sequential([\n",
    "    Dense(64, activation='relu', input_dim=encoding_dim),\n",
    "    Dropout(0.3),\n",
    "    Dense(y_train.shape[1], activation='sigmoid')\n",
    "])\n",
    "classifier.compile(optimizer='adam', loss='binary_crossentropy', metrics=['accuracy'])"
   ],
   "id": "61bbbd86bf73a74e",
   "outputs": [],
   "execution_count": null
  },
  {
   "metadata": {},
   "cell_type": "markdown",
   "source": "#### Training the classifier",
   "id": "9fe7826bd4ed08b"
  },
  {
   "metadata": {},
   "cell_type": "code",
   "source": [
    "classifier.fit(X_train_encoded, y_train,\n",
    "               validation_data=(X_val_encoded, y_val),\n",
    "               epochs=50,\n",
    "               batch_size=32,\n",
    "               callbacks=[early_stopping])"
   ],
   "id": "df9f0babfae4dbfc",
   "outputs": [],
   "execution_count": null
  },
  {
   "metadata": {},
   "cell_type": "markdown",
   "source": [
    "## Evaluating the model\n",
    "#### Accuracy"
   ],
   "id": "16f35d69faa5b6a"
  },
  {
   "metadata": {},
   "cell_type": "code",
   "source": [
    "loss, accuracy = classifier.evaluate(X_test_encoded, y_test)\n",
    "print(f\"Test Loss: {loss:.4f}, Test Accuracy: {accuracy:.4f}\")"
   ],
   "id": "8a28be80b6c17430",
   "outputs": [],
   "execution_count": null
  },
  {
   "metadata": {},
   "cell_type": "markdown",
   "source": "#### Multi-label confusion matrix",
   "id": "d672e672e6edb595"
  },
  {
   "metadata": {},
   "cell_type": "code",
   "source": [
    "y_test_pred = classifier.predict(X_test_encoded)\n",
    "y_test_pred_binary = (y_test_pred > 0.5).astype(int)\n",
    "\n",
    "matrix = multilabel_confusion_matrix(y_test, y_test_pred_binary)\n",
    "\n",
    "for i, (label, mat) in enumerate(zip(targets, matrix)):\n",
    "    df_confusion_matrix = pd.DataFrame(mat, index=[f'Actual {label}', f'Not {label}'], columns=[f'Predicted {label}', f'Not {label}'])\n",
    "\n",
    "    plt.figure(figsize=(6, 4))\n",
    "    sns.heatmap(df_confusion_matrix, annot=True, fmt='g', cmap='Blues')\n",
    "    plt.xlabel('Predicted')\n",
    "    plt.ylabel('Actual')\n",
    "    plt.title(f'Confusion Matrix for {label}')\n",
    "    plt.show()"
   ],
   "id": "52e951044fa062e",
   "outputs": [],
   "execution_count": null
  },
  {
   "metadata": {},
   "cell_type": "markdown",
   "source": "#### Precision, recall, and F1-score",
   "id": "a68b332b37f7ab13"
  },
  {
   "metadata": {},
   "cell_type": "code",
   "source": [
    "plt.figure(figsize=(10, 8))\n",
    "for i in range(y_test.shape[1]):  # Loop through each label\n",
    "    precision, recall, _ = precision_recall_curve(y_test.iloc[:, i], y_test_pred[:, i])\n",
    "    plt.plot(recall, precision, label=f'Class {i}')\n",
    "\n",
    "# Add labels and legend\n",
    "plt.xlabel('Recall')\n",
    "plt.ylabel('Precision')\n",
    "plt.title('Precision-Recall Curve for Each Class')\n",
    "plt.legend()\n",
    "plt.grid()\n",
    "plt.show()"
   ],
   "id": "bb354f9c2774b6",
   "outputs": [],
   "execution_count": null
  }
 ],
 "metadata": {
  "kernelspec": {
   "display_name": "Python 3",
   "language": "python",
   "name": "python3"
  },
  "language_info": {
   "codemirror_mode": {
    "name": "ipython",
    "version": 2
   },
   "file_extension": ".py",
   "mimetype": "text/x-python",
   "name": "python",
   "nbconvert_exporter": "python",
   "pygments_lexer": "ipython2",
   "version": "2.7.6"
  }
 },
 "nbformat": 4,
 "nbformat_minor": 5
}
