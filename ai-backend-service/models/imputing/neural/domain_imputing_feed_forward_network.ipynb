{
 "cells": [
  {
   "cell_type": "code",
   "id": "initial_id",
   "metadata": {
    "collapsed": true
   },
   "source": [
    "import numpy as np\n",
    "import pandas as pd\n",
    "import seaborn as sns\n",
    "import matplotlib.pyplot as plt\n",
    "import joblib\n",
    "\n",
    "from keras import Sequential\n",
    "from keras.src.callbacks import LearningRateScheduler, EarlyStopping\n",
    "from keras.src.layers import Dense, Dropout, BatchNormalization\n",
    "from keras.src.regularizers import L2\n",
    "from sklearn.metrics import accuracy_score, classification_report, confusion_matrix, multilabel_confusion_matrix\n",
    "from sklearn.model_selection import train_test_split\n",
    "from sklearn.preprocessing import StandardScaler\n",
    "from sklearn.pipeline import Pipeline\n",
    "from scikeras.wrappers import KerasClassifier"
   ],
   "outputs": [],
   "execution_count": null
  },
  {
   "metadata": {},
   "cell_type": "markdown",
   "source": [
    "# Domains column Imputing\n",
    "## Loading the dataset"
   ],
   "id": "f3aadaed4edddeac"
  },
  {
   "metadata": {},
   "cell_type": "code",
   "source": "df = pd.read_excel('../../../data/BGG_Cleaned_Data_Set_Imputing.xlsx')",
   "id": "94bc0d9c94aec1bf",
   "outputs": [],
   "execution_count": null
  },
  {
   "metadata": {},
   "cell_type": "markdown",
   "source": [
    "## Data preparation\n",
    "#### Splitting the data"
   ],
   "id": "2ad6c265013e8a74"
  },
  {
   "metadata": {},
   "cell_type": "code",
   "source": [
    "targets = ['Strategy Games', 'Thematic Games', 'Wargames', 'Family Games', 'Customizable Games', 'Abstract Games', 'Party Games','Children\\'s Games']\n",
    "\n",
    "X = df.drop(targets,axis=1)\n",
    "y = df[targets]\n",
    "\n",
    "X_train, X_test, y_train, y_test = train_test_split(X, y, test_size=0.2, random_state=42)"
   ],
   "id": "8526668a7368892c",
   "outputs": [],
   "execution_count": null
  },
  {
   "metadata": {},
   "cell_type": "markdown",
   "source": "#### Defining FNN model",
   "id": "4a396fa953161e1c"
  },
  {
   "metadata": {},
   "cell_type": "code",
   "source": [
    "def create_fnn():\n",
    "    model = Sequential([\n",
    "        Dense(256, input_dim=X_train.shape[1], activation='relu'),\n",
    "        BatchNormalization(),\n",
    "        Dropout(0.3),\n",
    "        Dense(128, activation='relu'),\n",
    "        BatchNormalization(),\n",
    "        Dropout(0.3),\n",
    "        Dense(64, activation='relu'),\n",
    "        BatchNormalization(),\n",
    "        Dropout(0.3),\n",
    "        Dense(len(targets), activation='sigmoid')\n",
    "    ])\n",
    "    model.compile(optimizer='adam', loss='binary_crossentropy', metrics=['accuracy'])\n",
    "    return model"
   ],
   "id": "a8bde5b4f91c4c69",
   "outputs": [],
   "execution_count": null
  },
  {
   "metadata": {},
   "cell_type": "markdown",
   "source": "#### Learning rate scheduler",
   "id": "24166eeb6dccc193"
  },
  {
   "metadata": {},
   "cell_type": "code",
   "source": [
    "def scheduler(epoch, lr):\n",
    "    if epoch > 20:\n",
    "        return lr * 0.5\n",
    "    return lr"
   ],
   "id": "ddadbf2eccbb4c13",
   "outputs": [],
   "execution_count": null
  },
  {
   "metadata": {},
   "cell_type": "markdown",
   "source": "#### Early stopping",
   "id": "6b242c838484c1ed"
  },
  {
   "metadata": {},
   "cell_type": "code",
   "source": "early_stopping = EarlyStopping(monitor='val_loss', patience=10, restore_best_weights=True)",
   "id": "c9d24d91e05f7c4e",
   "outputs": [],
   "execution_count": null
  },
  {
   "metadata": {},
   "cell_type": "markdown",
   "source": "#### Callbacks for the lr adjustment",
   "id": "fd0a0e5dc7d47b89"
  },
  {
   "metadata": {},
   "cell_type": "code",
   "source": "callbacks = [LearningRateScheduler(scheduler), early_stopping]",
   "id": "744edb2125e162b9",
   "outputs": [],
   "execution_count": null
  },
  {
   "metadata": {},
   "cell_type": "markdown",
   "source": "#### Setting up the pipeline",
   "id": "e17f1f845f0f2f90"
  },
  {
   "metadata": {},
   "cell_type": "code",
   "source": [
    "pipeline = Pipeline([\n",
    "    ('scaler', StandardScaler()),\n",
    "    ('clf', KerasClassifier(\n",
    "        build_fn=create_fnn,\n",
    "        epochs=50,\n",
    "        batch_size=32,\n",
    "        verbose=1,\n",
    "        callbacks=callbacks\n",
    "    ))\n",
    "])"
   ],
   "id": "40d4efcd7ff33ad2",
   "outputs": [],
   "execution_count": null
  },
  {
   "metadata": {},
   "cell_type": "markdown",
   "source": "#### Training the model",
   "id": "7cd0c786950ab2d7"
  },
  {
   "metadata": {},
   "cell_type": "code",
   "source": "pipeline.fit(X_train, y_train, clf__validation_data=(X_test, y_test))",
   "id": "6dba293839f39b0a",
   "outputs": [],
   "execution_count": null
  },
  {
   "metadata": {},
   "cell_type": "markdown",
   "source": "#### Make predictions",
   "id": "9e55824ef1437f8f"
  },
  {
   "metadata": {},
   "cell_type": "code",
   "source": "y_pred = pipeline.predict(X_test)",
   "id": "dc1bb50922a4a1de",
   "outputs": [],
   "execution_count": null
  },
  {
   "metadata": {},
   "cell_type": "markdown",
   "source": [
    "## Model evaluation\n",
    "#### Accuracy"
   ],
   "id": "4dffef0adbd43e56"
  },
  {
   "metadata": {},
   "cell_type": "code",
   "source": [
    "accuracy = accuracy_score(y_test, y_pred, normalize=True)\n",
    "accuracy"
   ],
   "id": "2f08ed3903e2c9d1",
   "outputs": [],
   "execution_count": null
  },
  {
   "metadata": {},
   "cell_type": "markdown",
   "source": "#### Confusion matrix",
   "id": "faacc9eb51865f82"
  },
  {
   "metadata": {},
   "cell_type": "code",
   "source": [
    "matrix = multilabel_confusion_matrix(y_test, y_pred)\n",
    "\n",
    "for i, (label, mat) in enumerate(zip(targets, matrix)):\n",
    "    df_confusion_matrix = pd.DataFrame(mat, index=[f'Actual {label}', f'Not {label}'], columns=[f'Predicted {label}', f'Not {label}'])\n",
    "\n",
    "    plt.figure(figsize=(6, 4))\n",
    "    sns.heatmap(df_confusion_matrix, annot=True, fmt='g', cmap='Blues')\n",
    "    plt.xlabel('Predicted')\n",
    "    plt.ylabel('Actual')\n",
    "    plt.title(f'Confusion Matrix for {label}')\n",
    "    plt.show()"
   ],
   "id": "ba015e83663a1626",
   "outputs": [],
   "execution_count": null
  },
  {
   "metadata": {},
   "cell_type": "markdown",
   "source": "#### Classification report",
   "id": "9bdce8e564fb7d14"
  },
  {
   "metadata": {},
   "cell_type": "code",
   "source": [
    "report = classification_report(y_test, y_pred, zero_division=0, target_names=targets)\n",
    "print(report)"
   ],
   "id": "f55239d02e1126ad",
   "outputs": [],
   "execution_count": null
  },
  {
   "metadata": {},
   "cell_type": "markdown",
   "source": "## Saving the model",
   "id": "f597db954259a39c"
  },
  {
   "metadata": {},
   "cell_type": "code",
   "source": "joblib.dump(pipeline, '../../../models/saved/domain_imputing_feed_forward_model.pkl')",
   "id": "faa72b4553049aef",
   "outputs": [],
   "execution_count": null
  }
 ],
 "metadata": {
  "kernelspec": {
   "display_name": "Python 3",
   "language": "python",
   "name": "python3"
  },
  "language_info": {
   "codemirror_mode": {
    "name": "ipython",
    "version": 2
   },
   "file_extension": ".py",
   "mimetype": "text/x-python",
   "name": "python",
   "nbconvert_exporter": "python",
   "pygments_lexer": "ipython2",
   "version": "2.7.6"
  }
 },
 "nbformat": 4,
 "nbformat_minor": 5
}
