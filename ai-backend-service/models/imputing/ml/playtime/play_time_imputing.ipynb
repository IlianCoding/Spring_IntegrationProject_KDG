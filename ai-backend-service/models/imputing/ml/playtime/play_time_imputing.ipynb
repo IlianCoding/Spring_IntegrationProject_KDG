{
 "cells": [
  {
   "cell_type": "code",
   "id": "initial_id",
   "metadata": {
    "collapsed": true
   },
   "source": [
    "import pandas as pd\n",
    "import joblib\n",
    "import optuna\n",
    "\n",
    "from sklearn.ensemble import RandomForestRegressor\n",
    "from sklearn.feature_selection import mutual_info_regression\n",
    "from sklearn.metrics import mean_squared_error, mean_absolute_error, r2_score, root_mean_squared_error\n",
    "from sklearn.model_selection import train_test_split\n",
    "from sklearn.pipeline import Pipeline\n",
    "from sklearn.preprocessing import StandardScaler"
   ],
   "outputs": [],
   "execution_count": null
  },
  {
   "metadata": {},
   "cell_type": "markdown",
   "source": "# Play Time Imputing model",
   "id": "e4179254f05248db"
  },
  {
   "metadata": {},
   "cell_type": "code",
   "source": "df = pd.read_excel('../../../data/BGG_Cleaned_Data_Set_Mechanics_Imputing_Embedded.xlsx')",
   "id": "7127905b21fea9c8",
   "outputs": [],
   "execution_count": null
  },
  {
   "metadata": {},
   "cell_type": "code",
   "source": "df",
   "id": "ff2c629a124de894",
   "outputs": [],
   "execution_count": null
  },
  {
   "metadata": {},
   "cell_type": "markdown",
   "source": [
    "## Feature Selection\n",
    "#### Calculating the mutual information for the play time column"
   ],
   "id": "98db9357e8b6c801"
  },
  {
   "metadata": {},
   "cell_type": "code",
   "source": [
    "df_mutual = df.drop(columns=['Strategy Games', 'Abstract Games', 'Thematic Games', 'Party Games', 'Wargames', 'Customizable Games', 'Children\\'s Games', 'Family Games', '0', '1', '2', '3', '4', '5', '6'])\n",
    "\n",
    "df_mutual = df_mutual.dropna()\n",
    "\n",
    "df_mutual['Domains'] = df_mutual['Domains'].astype('category').cat.codes\n",
    "df_mutual['mechanic_cluster'] = df_mutual['mechanic_cluster'].astype('category').cat.codes\n",
    "\n",
    "# Define target and features\n",
    "target = df_mutual['Play Time'].values\n",
    "features = df_mutual.drop(columns=['Play Time'])\n",
    "mutual_info = mutual_info_regression(features, target, random_state=42, n_neighbors=5, discrete_features='auto')\n",
    "\n",
    "mutual_info_df = pd.DataFrame({\n",
    "    'Feature': features.columns,\n",
    "    'Mutual Information': mutual_info\n",
    "})\n",
    "\n",
    "mutual_info_df = mutual_info_df.sort_values(by='Mutual Information', ascending=False)\n",
    "# plt.figure(figsize=(10, 6))\n",
    "# plt.barh(mutual_info_df['Feature'], mutual_info_df['Mutual Information'])\n",
    "# plt.xlabel('Mutual Information')\n",
    "# plt.ylabel('Feature')\n",
    "# plt.title('Mutual Information for the Mechanics Column')\n",
    "# plt.gca().invert_yaxis()\n",
    "# plt.show()\n",
    "\n",
    "mutual_info_df"
   ],
   "id": "89a2621dbc2162a7",
   "outputs": [],
   "execution_count": null
  },
  {
   "metadata": {},
   "cell_type": "markdown",
   "source": [
    "## Data Preprocessing\n",
    "#### Choosing the best features"
   ],
   "id": "2cc13afccc9d17ac"
  },
  {
   "metadata": {},
   "cell_type": "code",
   "source": [
    "# Selecting the features that have a mutual information higher than 0.2\n",
    "selected_features = mutual_info_df[mutual_info_df['Mutual Information'] > 0.2]['Feature'].values\n",
    "\n",
    "# Selecting the columns to use\n",
    "columns_to_select = list(selected_features)\n",
    "if 'Domains' in df.columns:\n",
    "    columns_to_select.remove('Domains')\n",
    "\n",
    "# Removing the rows with missing values and dropping the not needed columns\n",
    "df = df[columns_to_select + ['Play Time']].dropna()\n",
    "df"
   ],
   "id": "605967b3643447e3",
   "outputs": [],
   "execution_count": null
  },
  {
   "metadata": {},
   "cell_type": "markdown",
   "source": "#### Removing possible outliers",
   "id": "a35dbc18aac42c53"
  },
  {
   "metadata": {},
   "cell_type": "code",
   "source": [
    "# Removing the outliers in the Play Time column beyond the 0.95 quantile\n",
    "df = df[df['Play Time'] < df['Play Time'].quantile(0.95)]"
   ],
   "id": "f600dd51332d6ef",
   "outputs": [],
   "execution_count": null
  },
  {
   "metadata": {},
   "cell_type": "markdown",
   "source": [
    "## Model Training\n",
    "#### Splitting the data"
   ],
   "id": "2f4d4e1fa0c23113"
  },
  {
   "metadata": {},
   "cell_type": "code",
   "source": [
    "X = df[columns_to_select].drop(columns=['mechanic_cluster'])\n",
    "y = df['Play Time']\n",
    "\n",
    "X_train_full, X_test, y_train_full, y_test = train_test_split(X, y, test_size=0.2, random_state=42)\n",
    "X_train, X_val, y_train, y_val = train_test_split(X_train_full, y_train_full, test_size=0.2, random_state=42)"
   ],
   "id": "d98727037fdc48a6",
   "outputs": [],
   "execution_count": null
  },
  {
   "metadata": {},
   "cell_type": "markdown",
   "source": "#### Define the Optuna objective function",
   "id": "5024e07fbd8042aa"
  },
  {
   "metadata": {},
   "cell_type": "code",
   "source": [
    "def objective(trial):\n",
    "    n_estimators = trial.suggest_int('n_estimators', 100, 500)\n",
    "    max_depth = trial.suggest_int('max_depth', 5, 30, step=5)\n",
    "    min_samples_split = trial.suggest_int('min_samples_split', 2, 10)\n",
    "    min_samples_leaf = trial.suggest_int('min_samples_leaf', 1, 10)\n",
    "    max_features = trial.suggest_categorical('max_features', ['sqrt', 'log2', None])\n",
    "    bootstrap = trial.suggest_categorical('bootstrap', [True, False])\n",
    "\n",
    "    pipeline = Pipeline([\n",
    "        ('scaler', StandardScaler()),\n",
    "        ('rf', RandomForestRegressor(\n",
    "            n_estimators=n_estimators,\n",
    "            max_depth=max_depth,\n",
    "            min_samples_split=min_samples_split,\n",
    "            min_samples_leaf=min_samples_leaf,\n",
    "            max_features=max_features,\n",
    "            bootstrap=bootstrap,\n",
    "            random_state=42\n",
    "        ))\n",
    "    ])\n",
    "    pipeline.fit(X_train, y_train)\n",
    "\n",
    "    val_predictions = pipeline.predict(X_val)\n",
    "    val_mse = mean_squared_error(y_val, val_predictions)\n",
    "    return val_mse"
   ],
   "id": "414d399056ab4e9b",
   "outputs": [],
   "execution_count": null
  },
  {
   "metadata": {},
   "cell_type": "markdown",
   "source": "#### Running the Bayesian Optimization",
   "id": "ba42a63e398fecc6"
  },
  {
   "metadata": {},
   "cell_type": "code",
   "source": [
    "bayesian_optimization = optuna.create_study(direction='minimize')\n",
    "bayesian_optimization.optimize(objective, n_trials=75)"
   ],
   "id": "38f3f6e05696ba22",
   "outputs": [],
   "execution_count": null
  },
  {
   "metadata": {},
   "cell_type": "markdown",
   "source": "#### The best parameters",
   "id": "32b6b8d3676e96d9"
  },
  {
   "metadata": {},
   "cell_type": "code",
   "source": [
    "best_parameters = bayesian_optimization.best_params\n",
    "print(best_parameters)"
   ],
   "id": "7f6cf48f0fc857c6",
   "outputs": [],
   "execution_count": null
  },
  {
   "metadata": {},
   "cell_type": "markdown",
   "source": "#### Training the model with the best parameters",
   "id": "6144f8db0e4c9281"
  },
  {
   "metadata": {},
   "cell_type": "code",
   "source": [
    "final_pipeline = Pipeline([\n",
    "    ('scaler', StandardScaler()),\n",
    "    ('rf', RandomForestRegressor(\n",
    "        n_estimators=best_parameters['n_estimators'],\n",
    "        max_depth=best_parameters['max_depth'],\n",
    "        min_samples_split=best_parameters['min_samples_split'],\n",
    "        min_samples_leaf=best_parameters['min_samples_leaf'],\n",
    "        max_features=best_parameters['max_features'],\n",
    "        bootstrap=best_parameters['bootstrap'],\n",
    "        random_state=42\n",
    "    ))\n",
    "])\n",
    "\n",
    "final_pipeline.fit(X_train_full, y_train_full)"
   ],
   "id": "b9b70383b7149c81",
   "outputs": [],
   "execution_count": null
  },
  {
   "metadata": {},
   "cell_type": "markdown",
   "source": [
    "## Model Evaluation\n",
    "#### Evaluating the model"
   ],
   "id": "a55c374dd7a1b6c4"
  },
  {
   "metadata": {},
   "cell_type": "code",
   "source": [
    "train_predictions = final_pipeline.predict(X_train_full)\n",
    "train_mse = mean_squared_error(y_train_full, train_predictions)\n",
    "train_mae = mean_absolute_error(y_train_full, train_predictions)\n",
    "train_rmse = root_mean_squared_error(y_train_full, train_predictions)\n",
    "train_r2 = r2_score(y_train_full, train_predictions)\n",
    "print(f'Train MSE for the most Optimized Pipeline: {train_mse:.2f}')\n",
    "print(f'Train MAE for the most Optimized Pipeline: {train_mae:.2f}')\n",
    "print(f'Train RMSE for the most Optimized Pipeline: {train_rmse:.2f}')\n",
    "print(f'Train R2 for the most Optimized Pipeline: {train_r2:.2f}')"
   ],
   "id": "fd3cd19926a996a4",
   "outputs": [],
   "execution_count": null
  },
  {
   "metadata": {},
   "cell_type": "code",
   "source": [
    "validation_predictions = final_pipeline.predict(X_val)\n",
    "test_mse = mean_squared_error(y_val, validation_predictions)\n",
    "test_mae = mean_absolute_error(y_val, validation_predictions)\n",
    "test_rmse = root_mean_squared_error(y_val, validation_predictions)\n",
    "test_r2 = r2_score(y_val, validation_predictions)\n",
    "print(f'Validation MSE for the most Optimized Pipeline: {test_mse:.2f}')\n",
    "print(f'Validation MAE for the most Optimized Pipeline: {test_mae:.2f}')\n",
    "print(f'Validation RMSE for the most Optimized Pipeline: {test_rmse:.2f}')\n",
    "print(f'Validation R2 for the most Optimized Pipeline: {test_r2:.2f}')"
   ],
   "id": "2922d25d269358f8",
   "outputs": [],
   "execution_count": null
  },
  {
   "metadata": {},
   "cell_type": "code",
   "source": [
    "test_predictions = final_pipeline.predict(X_test)\n",
    "test_mse = mean_squared_error(y_test, test_predictions)\n",
    "test_mae = mean_absolute_error(y_test, test_predictions)\n",
    "test_rmse = root_mean_squared_error(y_test, test_predictions)\n",
    "test_r2 = r2_score(y_test, test_predictions)\n",
    "print(f'Test MSE for the most Optimized Pipeline: {test_mse:.2f}')\n",
    "print(f'Test MAE for the most Optimized Pipeline: {test_mae:.2f}')\n",
    "print(f'Test RMSE for the most Optimized Pipeline: {test_rmse:.2f}')\n",
    "print(f'Test R2 for the most Optimized Pipeline: {test_r2:.2f}')"
   ],
   "id": "b8122a2178e9315c",
   "outputs": [],
   "execution_count": null
  }
 ],
 "metadata": {
  "kernelspec": {
   "display_name": "Python 3",
   "language": "python",
   "name": "python3"
  },
  "language_info": {
   "codemirror_mode": {
    "name": "ipython",
    "version": 2
   },
   "file_extension": ".py",
   "mimetype": "text/x-python",
   "name": "python",
   "nbconvert_exporter": "python",
   "pygments_lexer": "ipython2",
   "version": "2.7.6"
  }
 },
 "nbformat": 4,
 "nbformat_minor": 5
}
