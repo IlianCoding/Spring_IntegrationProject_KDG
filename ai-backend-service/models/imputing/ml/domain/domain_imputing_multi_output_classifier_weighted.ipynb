{
 "cells": [
  {
   "cell_type": "code",
   "id": "initial_id",
   "metadata": {
    "collapsed": true
   },
   "source": [
    "import pandas as pd\n",
    "import joblib\n",
    "import lightgbm as lgb\n",
    "from sklearn.feature_selection import mutual_info_regression\n",
    "from sklearn.linear_model import LogisticRegression\n",
    "\n",
    "from sklearn.model_selection import train_test_split, RandomizedSearchCV\n",
    "from sklearn.ensemble import RandomForestClassifier, StackingClassifier, VotingClassifier\n",
    "from sklearn.multioutput import MultiOutputClassifier\n",
    "from sklearn.pipeline import Pipeline\n",
    "from sklearn.preprocessing import StandardScaler\n",
    "from sklearn.metrics import classification_report\n",
    "\n",
    "from scripts.MLSmote import get_minority_instace, MLSMOTE\n",
    "from scripts.custom_models import WeightedRandomForest\n",
    "from scripts.weight_calculation import calculate_one_hot_class_weights"
   ],
   "outputs": [],
   "execution_count": null
  },
  {
   "metadata": {},
   "cell_type": "markdown",
   "source": [
    "# Domains column Imputing\n",
    "## Loading the dataset"
   ],
   "id": "44f9171636736c3b"
  },
  {
   "metadata": {},
   "cell_type": "code",
   "source": "df = pd.read_excel('../../../data/BGG_Cleaned_Data_Set_Mechanics_Imputing_Custom.xlsx')",
   "id": "892466a4c17f7c33",
   "outputs": [],
   "execution_count": null
  },
  {
   "metadata": {},
   "cell_type": "code",
   "source": "df.head()",
   "id": "ebd654dc1db05f72",
   "outputs": [],
   "execution_count": null
  },
  {
   "metadata": {},
   "cell_type": "markdown",
   "source": [
    "## Feature Selection\n",
    "#### Calculating the mutual information for the domains column"
   ],
   "id": "b400b8546c8e1c0d"
  },
  {
   "metadata": {},
   "cell_type": "code",
   "source": [
    "df_mutual = df.drop(columns=['Strategy Games', 'Abstract Games', 'Thematic Games', 'Party Games', 'Wargames', 'Customizable Games', 'Children\\'s Games', 'Family Games', 'Mechanics', 'Strategic Elements', 'Interaction and Conflict', 'Action and Turn Management', 'Resource Management', 'Narrative and Thematic', 'Movement and Positioning', 'Specialized Mechanics', 'Auxiliary Mechanics', 'Other', 'Game Progression and Mechanics'])\n",
    "\n",
    "df_mutual = df_mutual.dropna()\n",
    "\n",
    "df_mutual['Domains'] = df_mutual['Domains'].astype('category').cat.codes\n",
    "df_mutual['Mechanics_Categories'] = df_mutual['Mechanics_Categories'].astype('category').cat.codes\n",
    "\n",
    "# Define target and features\n",
    "target = df_mutual['Domains'].values\n",
    "features = df_mutual.drop(columns=['Domains'])\n",
    "\n",
    "mutual_info = mutual_info_regression(features, target, random_state=42, n_neighbors=5, discrete_features='auto')\n",
    "\n",
    "mutual_info_df = pd.DataFrame({\n",
    "    'Feature': features.columns,\n",
    "    'Mutual Information': mutual_info\n",
    "})\n",
    "\n",
    "mutual_info_df = mutual_info_df.sort_values(by='Mutual Information', ascending=False)\n",
    "# plt.figure(figsize=(10, 6))\n",
    "# plt.barh(mutual_info_df['Feature'], mutual_info_df['Mutual Information'])\n",
    "# plt.xlabel('Mutual Information')\n",
    "# plt.ylabel('Feature')\n",
    "# plt.title('Mutual Information for the Domains Column')\n",
    "# plt.gca().invert_yaxis()\n",
    "# plt.show()\n",
    "\n",
    "mutual_info_df"
   ],
   "id": "1feab2742efb3908",
   "outputs": [],
   "execution_count": null
  },
  {
   "metadata": {},
   "cell_type": "markdown",
   "source": [
    "## Data Preprocessing\n",
    "#### Choosing the best features"
   ],
   "id": "a2cc51e46965235f"
  },
  {
   "metadata": {},
   "cell_type": "code",
   "source": [
    "# Selecting the features that have a mutual information higher than 0.2\n",
    "all_mechanics = df['Mechanics_Categories'].str.split(',').explode().unique()\n",
    "selected_features = mutual_info_df[mutual_info_df['Mutual Information'] > 0.2]['Feature'].values\n",
    "\n",
    "# Selecting the valid mechanics\n",
    "valid_mechanics = [mechanic for mechanic in all_mechanics if mechanic in df.columns]\n",
    "\n",
    "# Selecting the features\n",
    "columns_to_select = list(selected_features)\n",
    "\n",
    "# Targets\n",
    "targets = ['Strategy Games', 'Abstract Games', 'Thematic Games', 'Party Games', 'Wargames', 'Customizable Games', 'Children\\'s Games', 'Family Games']\n",
    "columns_to_select"
   ],
   "id": "905d5fd41518efdb",
   "outputs": [],
   "execution_count": null
  },
  {
   "metadata": {},
   "cell_type": "markdown",
   "source": "#### Removing the NaN values",
   "id": "1b00c1924d83a849"
  },
  {
   "metadata": {},
   "cell_type": "code",
   "source": "df = df.dropna(subset=columns_to_select + targets)",
   "id": "99fdd5faae1c7b62",
   "outputs": [],
   "execution_count": null
  },
  {
   "metadata": {},
   "cell_type": "markdown",
   "source": "#### Checking the spread of the mechanic clusters",
   "id": "e09bdd091ee1f13d"
  },
  {
   "metadata": {},
   "cell_type": "code",
   "source": [
    "# Calculating the frequency of each domain category\n",
    "domains_frequencies = df[targets].sum()\n",
    "total_domain_occurrences = df[targets].sum().sum()\n",
    "print(domains_frequencies)"
   ],
   "id": "7178af92c849510c",
   "outputs": [],
   "execution_count": null
  },
  {
   "metadata": {},
   "cell_type": "markdown",
   "source": [
    "## Model training for imputing the 'Domains' column\n",
    "#### Splitting the data"
   ],
   "id": "ab11144c4e79e1e7"
  },
  {
   "metadata": {},
   "cell_type": "code",
   "source": [
    "X = df[columns_to_select].drop(columns=['Mechanics_Categories'])\n",
    "y = df[targets]\n",
    "\n",
    "X_train, X_test, y_train, y_test = train_test_split(X, y, test_size=0.2, random_state=42)"
   ],
   "id": "e4b51d462d39988b",
   "outputs": [],
   "execution_count": null
  },
  {
   "metadata": {},
   "cell_type": "markdown",
   "source": "#### Using SMOTE to balance the classes",
   "id": "2d49434d4e743255"
  },
  {
   "metadata": {},
   "cell_type": "code",
   "outputs": [],
   "execution_count": null,
   "source": [
    "X_sub, y_sub = get_minority_instace(X_train, y_train)\n",
    "X_resampled, y_resampled = MLSMOTE(X_sub, y_sub, 500)\n",
    "\n",
    "X_train = pd.concat([X_train, X_resampled], axis=0)\n",
    "y_train = pd.concat([y_train, y_resampled], axis=0)"
   ],
   "id": "774763cacedbef37"
  },
  {
   "metadata": {},
   "cell_type": "markdown",
   "source": "#### Calculating the class weights",
   "id": "53e26f2459d70722"
  },
  {
   "metadata": {},
   "cell_type": "code",
   "outputs": [],
   "execution_count": null,
   "source": [
    "class_weights = calculate_one_hot_class_weights(y)\n",
    "class_weights"
   ],
   "id": "31fa71af13504fe3"
  },
  {
   "metadata": {},
   "cell_type": "markdown",
   "source": [
    "### Random Forest\n",
    "#### Defining the RandomForestClassifier"
   ],
   "id": "a74ac4f53a0819b5"
  },
  {
   "metadata": {},
   "cell_type": "code",
   "source": "rf_model = WeightedRandomForest(class_weights=class_weights)",
   "id": "8917e7811a9bb9cf",
   "outputs": [],
   "execution_count": null
  },
  {
   "metadata": {},
   "cell_type": "markdown",
   "source": "#### Wrapping the model in a MultiOutputClassifier",
   "id": "8ecda312d3e03aa8"
  },
  {
   "metadata": {},
   "cell_type": "code",
   "source": "rf_multi_output_model = MultiOutputClassifier(rf_model)",
   "id": "b21a9e39b87acb2",
   "outputs": [],
   "execution_count": null
  },
  {
   "metadata": {},
   "cell_type": "markdown",
   "source": "#### Defining hyperparameter grid for the Random Forest",
   "id": "27194f0a459cac0d"
  },
  {
   "metadata": {},
   "cell_type": "code",
   "source": [
    "rf_parameters = {\n",
    "    'model__estimator__n_estimators': [50, 100, 150],\n",
    "    'model__estimator__max_depth': [None, 10, 20, 30],\n",
    "    'model__estimator__min_samples_split': [2, 5, 10],\n",
    "    'model__estimator__min_samples_leaf': [1, 2, 4],\n",
    "    'model__estimator__max_features': [None, 'sqrt', 'log2'],\n",
    "}"
   ],
   "id": "a65865dfef42f147",
   "outputs": [],
   "execution_count": null
  },
  {
   "metadata": {},
   "cell_type": "markdown",
   "source": "#### Defining the pipeline",
   "id": "320f9c562a5a48e3"
  },
  {
   "metadata": {},
   "cell_type": "code",
   "source": [
    "rf_pipeline = Pipeline([\n",
    "    ('scaler', StandardScaler()),\n",
    "    ('model', rf_multi_output_model)\n",
    "])"
   ],
   "id": "728c6a22429dd69f",
   "outputs": [],
   "execution_count": null
  },
  {
   "metadata": {},
   "cell_type": "markdown",
   "source": "#### Randomized search",
   "id": "c671ca6a46a231cd"
  },
  {
   "metadata": {},
   "cell_type": "code",
   "source": [
    "rf_random_search = RandomizedSearchCV(\n",
    "    estimator=rf_pipeline,\n",
    "    param_distributions=rf_parameters,\n",
    "    n_iter=20,\n",
    "    cv=3,\n",
    "    scoring='f1',\n",
    "    n_jobs=-1,\n",
    "    verbose=2,\n",
    "    random_state=42\n",
    ")"
   ],
   "id": "2e6882f57267c43d",
   "outputs": [],
   "execution_count": null
  },
  {
   "metadata": {},
   "cell_type": "markdown",
   "source": "#### Fitting the Random Forest model",
   "id": "825e3b653d45e353"
  },
  {
   "metadata": {},
   "cell_type": "code",
   "source": [
    "print(\"Starting the training...\")\n",
    "rf_random_search.fit(X_train, y_train)\n",
    "print(f\"Best parameters: {rf_random_search.best_params_}\")\n",
    "best_rf_model = rf_random_search.best_estimator_"
   ],
   "id": "3273eed9dbcd3184",
   "outputs": [],
   "execution_count": null
  },
  {
   "metadata": {},
   "cell_type": "markdown",
   "source": "#### Evaluating the Random Forest model",
   "id": "d660b566efb9d4df"
  },
  {
   "metadata": {},
   "cell_type": "code",
   "source": [
    "y_pred = best_rf_model.predict(X_test)\n",
    "y_pred = y_pred.reshape(y_pred.shape[1], y_pred.shape[2])\n",
    "print(classification_report(y_test, y_pred))"
   ],
   "id": "cb0f3cd0b59a8b26",
   "outputs": [],
   "execution_count": null
  },
  {
   "metadata": {},
   "cell_type": "markdown",
   "source": [
    "### LightGBM\n",
    "#### Defining the LightGBM model"
   ],
   "id": "8c9f3d3f80d33287"
  },
  {
   "metadata": {},
   "cell_type": "code",
   "source": "lgb_model = lgb.LGBMClassifier(random_state=42)",
   "id": "d0dcbb1a41f5a2a3",
   "outputs": [],
   "execution_count": null
  },
  {
   "metadata": {},
   "cell_type": "markdown",
   "source": "#### Wrapping the model in a MultiOutputClassifier",
   "id": "ce8a5e9c16962e1d"
  },
  {
   "metadata": {},
   "cell_type": "code",
   "source": "lgbm_multi_output_model = MultiOutputClassifier(lgb_model)",
   "id": "1854c82c82ef87cb",
   "outputs": [],
   "execution_count": null
  },
  {
   "metadata": {},
   "cell_type": "markdown",
   "source": "#### Defining hyperparameter grid for the LightGBM model",
   "id": "b09e41d6b9072ec5"
  },
  {
   "metadata": {},
   "cell_type": "code",
   "source": [
    "lgbm_param_grid = {\n",
    "    'model__estimator__n_estimators': [50, 100, 150],\n",
    "    'model__estimator__max_depth': [None, 5, 10, 15],\n",
    "    'model__estimator__min_child_samples': [1, 5, 10],\n",
    "    'model__estimator__num_leaves': [31, 63, 127],\n",
    "    'model__estimator__learning_rate': [0.1, 0.01, 0.001],\n",
    "}"
   ],
   "id": "270a752015c709b0",
   "outputs": [],
   "execution_count": null
  },
  {
   "metadata": {},
   "cell_type": "markdown",
   "source": "#### Defining the pipeline",
   "id": "80a838932b6c99c7"
  },
  {
   "metadata": {},
   "cell_type": "code",
   "source": [
    "lgbm_pipeline = Pipeline([\n",
    "    ('scaler', StandardScaler()),\n",
    "    ('model', lgbm_multi_output_model)\n",
    "])"
   ],
   "id": "78f64214ca8e170",
   "outputs": [],
   "execution_count": null
  },
  {
   "metadata": {},
   "cell_type": "markdown",
   "source": "#### Randomized search",
   "id": "b8dde22502d02111"
  },
  {
   "metadata": {},
   "cell_type": "code",
   "source": [
    "lgbm_random_search = RandomizedSearchCV(\n",
    "    estimator=lgbm_pipeline,\n",
    "    param_distributions=lgbm_param_grid,\n",
    "    n_iter=20,\n",
    "    cv=3,\n",
    "    scoring='f1',\n",
    "    n_jobs=-1,\n",
    "    verbose=2,\n",
    "    random_state=42\n",
    ")"
   ],
   "id": "68cc57882ea58c8f",
   "outputs": [],
   "execution_count": null
  },
  {
   "metadata": {},
   "cell_type": "markdown",
   "source": "#### Fitting the LightGBM model",
   "id": "ec5c3267a6915a8c"
  },
  {
   "metadata": {},
   "cell_type": "code",
   "source": [
    "print(\"Starting the training...\")\n",
    "lgbm_random_search.fit(X_train, y_train)\n",
    "print(f\"Best parameters: {lgbm_random_search.best_params_}\")\n",
    "best_lgbm_model = lgbm_random_search.best_estimator_"
   ],
   "id": "e4601398880ec036",
   "outputs": [],
   "execution_count": null
  },
  {
   "metadata": {},
   "cell_type": "markdown",
   "source": [
    "## Model evaluation\n",
    "#### Classification report"
   ],
   "id": "98050419ea9705cd"
  },
  {
   "metadata": {},
   "cell_type": "code",
   "source": [
    "y_pred = best_lgbm_model.predict(X_test)\n",
    "print(classification_report(y_test, y_pred))"
   ],
   "id": "95f405bed71ded47",
   "outputs": [],
   "execution_count": null
  },
  {
   "metadata": {},
   "cell_type": "markdown",
   "source": "## Saving the model",
   "id": "b8ed7687e6c2b4dd"
  },
  {
   "metadata": {},
   "cell_type": "code",
   "source": [
    "joblib.dump(best_rf_model, '../../../saved/domain_imputing/Multi_Output_Random_Forest.pkl')\n",
    "joblib.dump(best_lgbm_model, '../../../saved/domain_imputing/Multi_Output_LightGBM.pkl')"
   ],
   "id": "b53335d05a80a40d",
   "outputs": [],
   "execution_count": null
  }
 ],
 "metadata": {
  "kernelspec": {
   "display_name": "Python 3",
   "language": "python",
   "name": "python3"
  },
  "language_info": {
   "codemirror_mode": {
    "name": "ipython",
    "version": 2
   },
   "file_extension": ".py",
   "mimetype": "text/x-python",
   "name": "python",
   "nbconvert_exporter": "python",
   "pygments_lexer": "ipython2",
   "version": "2.7.6"
  }
 },
 "nbformat": 4,
 "nbformat_minor": 5
}
