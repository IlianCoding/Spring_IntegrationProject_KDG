{
 "cells": [
  {
   "cell_type": "code",
   "id": "initial_id",
   "metadata": {
    "collapsed": true
   },
   "source": [
    "import pandas as pd\n",
    "\n",
    "from sklearn.model_selection import train_test_split, cross_val_score\n",
    "from sklearn.ensemble import GradientBoostingClassifier, VotingClassifier\n",
    "from sklearn.neighbors import KNeighborsClassifier\n",
    "from sklearn.pipeline import Pipeline\n",
    "from sklearn.preprocessing import StandardScaler\n",
    "from sklearn.metrics import accuracy_score"
   ],
   "outputs": [],
   "execution_count": null
  },
  {
   "metadata": {},
   "cell_type": "markdown",
   "source": [
    "# Domains column Imputing - Gradient & KNN\n",
    "## Loading the dataset"
   ],
   "id": "127e5fcf6b3a81da"
  },
  {
   "metadata": {},
   "cell_type": "code",
   "source": "df = pd.read_excel('../../../data/BGG_Domains_Imputing_Data_Set.xlsx')",
   "id": "ec91bd933b4db11f",
   "outputs": [],
   "execution_count": null
  },
  {
   "metadata": {},
   "cell_type": "markdown",
   "source": [
    "## Data preparation\n",
    "#### Splitting the data"
   ],
   "id": "99d24cbc198bc8c6"
  },
  {
   "metadata": {},
   "cell_type": "code",
   "source": [
    "features = [\n",
    "    \"Complexity Average\",\n",
    "    \"Rating Average\",\n",
    "    \"Owned Users\",\n",
    "    \"Users Rated\",\n",
    "    \"Min Age\",\n",
    "    \"Play Time\"\n",
    "]\n",
    "\n",
    "df = df.dropna(subset=['Domains'] + features)\n",
    "\n",
    "X = df[features]\n",
    "y = df['Domains']\n",
    "\n",
    "y_encoded = y.astype('category').cat.codes\n",
    "\n",
    "# Splitting the data\n",
    "X_train, X_test, y_train, y_test = train_test_split(X, y_encoded, test_size=0.2, random_state=42)"
   ],
   "id": "58d5e13a966c5b2c",
   "outputs": [],
   "execution_count": null
  },
  {
   "metadata": {},
   "cell_type": "markdown",
   "source": [
    "## Model setup\n",
    "#### Gradient Boosting Classifier"
   ],
   "id": "17289d7d19d2d5db"
  },
  {
   "metadata": {},
   "cell_type": "code",
   "source": "gbc = GradientBoostingClassifier(random_state=42, n_estimators=100)",
   "id": "bcc002d49dac7697",
   "outputs": [],
   "execution_count": null
  },
  {
   "metadata": {},
   "cell_type": "markdown",
   "source": "#### K-Nearest Neighbors Classifier",
   "id": "d1a7649d13c90c87"
  },
  {
   "metadata": {},
   "cell_type": "code",
   "source": "knn = KNeighborsClassifier(n_neighbors=5)",
   "id": "fa75f140c940f641",
   "outputs": [],
   "execution_count": null
  },
  {
   "metadata": {},
   "cell_type": "markdown",
   "source": [
    "## Pipeline setup\n",
    "#### Gradient Boosting Classifier pipeline"
   ],
   "id": "7ab0a1f62c852f63"
  },
  {
   "metadata": {},
   "cell_type": "code",
   "source": [
    "gbc_pipeline = Pipeline([\n",
    "    ('scaler', StandardScaler()),\n",
    "    ('gbc', gbc)\n",
    "])"
   ],
   "id": "bcd2937492928177",
   "outputs": [],
   "execution_count": null
  },
  {
   "metadata": {},
   "cell_type": "markdown",
   "source": "#### K-Nearest Neighbors Classifier pipeline",
   "id": "3ed92501ee05a805"
  },
  {
   "metadata": {},
   "cell_type": "code",
   "source": [
    "knn_pipeline = Pipeline([\n",
    "    ('scaler', StandardScaler()),\n",
    "    ('knn', knn)\n",
    "])"
   ],
   "id": "d99475ebd04c236a",
   "outputs": [],
   "execution_count": null
  },
  {
   "metadata": {},
   "cell_type": "markdown",
   "source": [
    "## Cross validation\n",
    "#### Gradient Boosting Classifier cross validation"
   ],
   "id": "a390dc0c5cdd1602"
  },
  {
   "metadata": {},
   "cell_type": "code",
   "source": [
    "gbc_cv_scores = cross_val_score(gbc_pipeline, X_train, y_train, cv=5)\n",
    "print(f\"Gradient Boosting Classifier cross validation scores: {gbc_cv_scores}\")\n",
    "print(f\"Gradient Boosting Classifier cross validation mean score: {gbc_cv_scores.mean()}\")"
   ],
   "id": "a95e618dbfc28c75",
   "outputs": [],
   "execution_count": null
  },
  {
   "metadata": {},
   "cell_type": "markdown",
   "source": "#### K-Nearest Neighbors Classifier cross validation",
   "id": "f0d6e95a0362b05c"
  },
  {
   "metadata": {},
   "cell_type": "code",
   "source": [
    "knn_cv_scores = cross_val_score(knn_pipeline, X_train, y_train, cv=5)\n",
    "print(f\"K-Nearest Neighbors Classifier cross validation scores: {knn_cv_scores}\")\n",
    "print(f\"K-Nearest Neighbors Classifier cross validation mean score: {knn_cv_scores.mean()}\")"
   ],
   "id": "48ec4a49a7f160e5",
   "outputs": [],
   "execution_count": null
  },
  {
   "metadata": {},
   "cell_type": "markdown",
   "source": [
    "## Ensemble model\n",
    "#### Voting Classifier"
   ],
   "id": "5f91fce1dc1c4e76"
  },
  {
   "metadata": {},
   "cell_type": "code",
   "source": [
    "ensemble_model = VotingClassifier([\n",
    "    ('gbc', gbc_pipeline),\n",
    "    ('knn', knn_pipeline)\n",
    "], voting='hard')"
   ],
   "id": "58b44fc339a7886",
   "outputs": [],
   "execution_count": null
  },
  {
   "metadata": {},
   "cell_type": "markdown",
   "source": "#### Training the ensemble model",
   "id": "d882697027f9783e"
  },
  {
   "metadata": {},
   "cell_type": "code",
   "source": [
    "ensemble_model.fit(X_train, y_train)\n",
    "gbc_pipeline.fit(X_train, y_train)\n",
    "knn_pipeline.fit(X_train, y_train)"
   ],
   "id": "4e3a52ef55f55a13",
   "outputs": [],
   "execution_count": null
  },
  {
   "metadata": {},
   "cell_type": "markdown",
   "source": [
    "## Model evaluation\n",
    "#### Making predictions"
   ],
   "id": "a8b6076b2fc038d5"
  },
  {
   "metadata": {},
   "cell_type": "code",
   "source": [
    "y_pred_gbc = gbc_pipeline.predict(X_test)\n",
    "y_pred_knn = knn_pipeline.predict(X_test)\n",
    "y_pred = ensemble_model.predict(X_test)"
   ],
   "id": "12d5645aa2f2436a",
   "outputs": [],
   "execution_count": null
  },
  {
   "metadata": {},
   "cell_type": "markdown",
   "source": "#### Accuracy scores",
   "id": "c5bf79fd78d56f9e"
  },
  {
   "metadata": {},
   "cell_type": "code",
   "source": [
    "print(f\"Gradient Boosting Classifier accuracy: {accuracy_score(y_test, y_pred_gbc):.2f}\")\n",
    "print(f\"K-Nearest Neighbors Classifier accuracy: {accuracy_score(y_test, y_pred_knn):.2f}\")\n",
    "print(f\"Ensemble model accuracy: {accuracy_score(y_test, y_pred):.2f}\")"
   ],
   "id": "179dd3f67400b80d",
   "outputs": [],
   "execution_count": null
  }
 ],
 "metadata": {
  "kernelspec": {
   "display_name": "Python 3",
   "language": "python",
   "name": "python3"
  },
  "language_info": {
   "codemirror_mode": {
    "name": "ipython",
    "version": 2
   },
   "file_extension": ".py",
   "mimetype": "text/x-python",
   "name": "python",
   "nbconvert_exporter": "python",
   "pygments_lexer": "ipython2",
   "version": "2.7.6"
  }
 },
 "nbformat": 4,
 "nbformat_minor": 5
}
