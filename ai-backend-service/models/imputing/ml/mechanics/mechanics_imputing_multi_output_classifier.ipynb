{
 "cells": [
  {
   "cell_type": "code",
   "id": "initial_id",
   "metadata": {
    "collapsed": true
   },
   "source": [
    "import pandas as pd\n",
    "import joblib\n",
    "\n",
    "from scripts.mechanics_reduction import map_mechanics_to_categories\n",
    "\n",
    "from sklearn.ensemble import RandomForestClassifier\n",
    "from sklearn.model_selection import train_test_split\n",
    "from sklearn.preprocessing import StandardScaler\n",
    "from sklearn.pipeline import Pipeline\n",
    "from sklearn.metrics import classification_report\n",
    "from sklearn.model_selection import RandomizedSearchCV\n",
    "from sklearn.multioutput import MultiOutputClassifier"
   ],
   "outputs": [],
   "execution_count": null
  },
  {
   "metadata": {},
   "cell_type": "markdown",
   "source": [
    "# Mechanics column Imputing\n",
    "## Loading the dataset"
   ],
   "id": "56680a3fd3358cab"
  },
  {
   "metadata": {},
   "cell_type": "code",
   "source": "df = pd.read_excel('../../../data/BGG_Cleaned_Data_Set_Imputing.xlsx')",
   "id": "3393b250e1567380",
   "outputs": [],
   "execution_count": null
  },
  {
   "metadata": {},
   "cell_type": "code",
   "source": [
    "to_drop_columns = [\n",
    "    'Action Queue', 'Action Retrieval', 'Campaign / Battle Card Driven',\n",
    "    'Card Play Conflict Resolution', 'Communication Limits', 'Cooperative Game',\n",
    "    'Deck Construction', 'Deck Bag and Pool Building', 'Grid Movement', 'Hand Management',\n",
    "    'Hexagon Grid', 'Legacy Game', 'Modular Board', 'Once-Per-Game Abilities',\n",
    "    'Scenario / Mission / Campaign Game', 'Simultaneous Action Selection', 'Solo / Solitaire Game',\n",
    "    'Storytelling', 'Variable Player Powers', 'Action Points', 'Point to Point Movement',\n",
    "    'Set Collection', 'Trading', 'Income', 'Loans', 'Market', 'Network and Route Building',\n",
    "    'Score-and-Reset Game', 'Tech Trees / Tech Tracks', 'Turn Order: Stat-Based', 'Variable Set-up',\n",
    "    'Card Drafting', 'Drafting', 'End Game Bonuses', 'Take That', 'Tile Placement',\n",
    "    'Turn Order: Progressive', 'Critical Hits and Failures', 'Line of Sight',\n",
    "    'Area Majority / Influence', 'Area Movement', 'Area-Impulse', 'Delayed Purchase',\n",
    "    'Dice Rolling', 'Team-Based Game', 'Action/Event', 'Advantage Token', 'Simulation',\n",
    "    'Sudden Death Ending', 'Tug of War', 'Ownership', 'Rondel', 'Track Movement',\n",
    "    'Hidden Movement', 'Movement Points', 'Events', 'Grid Coverage',\n",
    "    'Worker Placement with Dice Workers', 'Increase Value of Unchosen Resources',\n",
    "    'Turn Order: Pass Order', 'Victory Points as a Resource',\n",
    "    'Automatic Resource Growth', 'Pattern Building', 'Push Your Luck', 'Worker Placement',\n",
    "    'Role Playing', 'Hidden Roles', 'Player Elimination', 'Semi-Cooperative Game',\n",
    "    'Traitor Game', 'Race', 'Action Drafting', 'Follow', 'Hidden Victory Points',\n",
    "    'Variable Phase Order', 'Turn Order: Claim Action', 'Enclosure', 'Memory',\n",
    "    'Map Addition', 'Pick-up and Deliver', 'Contracts', 'Narrative Choice / Paragraph',\n",
    "    'Stock Holding', 'Auction/Bidding', 'Auction: Turn Order Until Pass', 'Catch the Leader',\n",
    "    'Bias', 'Trick-taking', 'Die Icon Resolution', 'Resource to Move',\n",
    "    'Roles with Asymmetric Information', 'Stat Check Resolution', 'Turn Order: Role Order',\n",
    "    'Auction: Dutch', 'Secret Unit Deployment', 'Commodity Speculation', 'Investment',\n",
    "    'Highest-Lowest Scoring', 'Flicking', 'Moving Multiple Units', 'Different Worker Types',\n",
    "    'Voting', 'Lose a Turn', 'Alliances', 'Auction: Sealed Bid', 'Betting and Bluffing',\n",
    "    'Force Commitment', 'Negotiation', 'Connections', 'Pieces as Map', 'Square Grid',\n",
    "    'Mancala', 'Targeted Clues', 'Order Counters', 'Movement Template', 'Constrained Bidding',\n",
    "    'Multiple Maps', 'Bingo', 'Line Drawing', 'Paper-and-Pencil', 'Selection Order Bid',\n",
    "    'Turn Order: Auction', 'Re-rolling and Locking', 'Kill Steal', 'Passed Action Token',\n",
    "    'Command Cards', 'Interrupts', 'Prisoner\\'s Dilemma', 'Move Through Deck',\n",
    "    'Roll / Spin and Move', 'Real-Time', 'Ladder Climbing', 'Predictive Bid',\n",
    "    'Auction: Once Around', 'Closed Economy Auction', 'Auction: Fixed Placement',\n",
    "    'Relative Movement', 'Cube Tower', 'Random Production', 'Elapsed Real Time Ending',\n",
    "    'Auction: English', 'Time Track', 'Melding and Splaying', 'Chaining', 'Three Dimensional Movement',\n",
    "    'Pattern Movement', 'Static Capture', 'Deduction', 'Finale Ending', 'Pattern Recognition',\n",
    "    'Rock-Paper-Scissors', 'Map Reduction', 'Turn Order: Random', 'Map Deformation',\n",
    "    'Ratio / Combat Results Table', 'Minimap Resolution', 'Layering', 'Acting', 'Singing',\n",
    "    'Bribery', 'Programmed Movement', 'King of the Hill', 'Stacking and Balancing',\n",
    "    'Different Dice Movement', 'Multiple-Lot Auction', 'Measurement Movement',\n",
    "    'Slide/Push', 'Auction: Dutch Priority', 'I Cut You Choose', 'Single Loser Game',\n",
    "    'Action Timer', 'Physical Removal', 'Induction', 'Player Judge', 'Speed Matching',\n",
    "    'Chit-Pull System', 'Zone of Control', 'Crayon Rail System', 'Matching',\n",
    "    'Auction: Dexterity', 'Impulse Movement', 'Hot Potato'\n",
    "]\n",
    "total_domain_nans = df['Domains'].isna().sum()\n",
    "print(f\"Number of rows containing NaN values in the 'Domains' column: {total_domain_nans}\")\n",
    "total_mechanics_nans = df['Mechanics'].isna().sum()\n",
    "print(f\"Number of rows containing NaN values in the 'Mechanics' column: {total_mechanics_nans}\")\n",
    "df = df.dropna(subset=['Mechanics'])\n",
    "print(f\"Number of rows after dropping NaN values in the 'Mechanics' column: {df.shape[0]}\")\n",
    "print(f\"Number of rows after dropping NaN values in the 'Domains' column: {df.shape[0]}\")\n",
    "df.drop(columns=['Domains'], inplace=True)\n",
    "df.drop(columns=['Unknown'], inplace=True)\n",
    "df.drop(columns=to_drop_columns, inplace=True)"
   ],
   "id": "fe1950f86331d838",
   "outputs": [],
   "execution_count": null
  },
  {
   "metadata": {},
   "cell_type": "markdown",
   "source": "#### Mapping the mechanics to categories",
   "id": "dfbfe4b0a668586"
  },
  {
   "metadata": {},
   "cell_type": "code",
   "source": [
    "df['Mechanics_Categories'] = df['Mechanics'].apply(map_mechanics_to_categories)\n",
    "mechanics_dummies = df['Mechanics_Categories'].str.get_dummies(sep=', ')\n",
    "\n",
    "# Include the dummy columns in the dataframe\n",
    "df = pd.concat([df, mechanics_dummies], axis=1)"
   ],
   "id": "971d5d9a9e7ccdac",
   "outputs": [],
   "execution_count": null
  },
  {
   "metadata": {},
   "cell_type": "markdown",
   "source": "#### Removing possible noise",
   "id": "af41677187f36045"
  },
  {
   "metadata": {},
   "cell_type": "code",
   "source": [
    "# Calculating the frequency of each mechanic category\n",
    "mechanics_frequencies = mechanics_dummies.sum()\n",
    "print(mechanics_frequencies)\n",
    "\n",
    "# Threshold for removing the noise\n",
    "threshold = 100\n",
    "\n",
    "# Filtering the mechanics that have a frequency lower than the threshold\n",
    "mechanics_to_keep = mechanics_frequencies[mechanics_frequencies >= threshold].index\n",
    "\n",
    "# Keeping only the mechanics that have a frequency higher than the threshold\n",
    "filtered_mechanics_dummies = mechanics_dummies[mechanics_to_keep]\n",
    "\n",
    "# Updating the dataframe\n",
    "df = pd.concat([df.drop(columns=mechanics_dummies.columns), filtered_mechanics_dummies], axis=1)"
   ],
   "id": "d4325e4c5ae2f0f3",
   "outputs": [],
   "execution_count": null
  },
  {
   "metadata": {},
   "cell_type": "code",
   "source": [
    "feature_columns = [\n",
    "    \"Strategy Games\", \"Thematic Games\", \"Wargames\", \"Family Games\",\n",
    "    \"Customizable Games\", \"Abstract Games\", \"Party Games\", \"Children's Games\",\n",
    "    \"Min Age\", \"Play Time\", \"BGG Rank\", \"Users Rated\", \"Owned Users\",\n",
    "    \"Max Players\", \"Complexity Average\"\n",
    "]\n",
    "targets = list(filtered_mechanics_dummies.columns)\n",
    "targets"
   ],
   "id": "12db02ff2e53588e",
   "outputs": [],
   "execution_count": null
  },
  {
   "metadata": {},
   "cell_type": "markdown",
   "source": [
    "## Model training for imputing the 'Mechanics' column\n",
    "#### Splitting the data"
   ],
   "id": "1316d6840d3de60b"
  },
  {
   "metadata": {},
   "cell_type": "code",
   "source": [
    "X = df[feature_columns]\n",
    "y = df[targets]\n",
    "\n",
    "X_train, X_test, y_train, y_test = train_test_split(X, y, test_size=0.2, random_state=42)"
   ],
   "id": "d494a517f3ca8525",
   "outputs": [],
   "execution_count": null
  },
  {
   "metadata": {},
   "cell_type": "markdown",
   "source": "#### Defining the model",
   "id": "f32a9973c2a41b13"
  },
  {
   "metadata": {},
   "cell_type": "code",
   "source": "rf_model = RandomForestClassifier(random_state=42)",
   "id": "6527e20fbcad169c",
   "outputs": [],
   "execution_count": null
  },
  {
   "metadata": {},
   "cell_type": "markdown",
   "source": "#### Wrapping the model in a MultiOutputClassifier",
   "id": "753e7998a332ecbc"
  },
  {
   "metadata": {},
   "cell_type": "code",
   "source": "multi_output_model = MultiOutputClassifier(rf_model)",
   "id": "968ee571dd54ef38",
   "outputs": [],
   "execution_count": null
  },
  {
   "metadata": {},
   "cell_type": "markdown",
   "source": "#### Defining the pipeline",
   "id": "35126f458500632f"
  },
  {
   "metadata": {},
   "cell_type": "code",
   "source": [
    "pipeline = Pipeline([\n",
    "    ('scaler', StandardScaler()),\n",
    "    ('model', multi_output_model)\n",
    "])"
   ],
   "id": "c6496412713dee43",
   "outputs": [],
   "execution_count": null
  },
  {
   "metadata": {},
   "cell_type": "markdown",
   "source": [
    "## Hyperparameter tuning\n",
    "#### Defining the parameters"
   ],
   "id": "9a2e726d60072b95"
  },
  {
   "metadata": {},
   "cell_type": "code",
   "source": [
    "rf_parameters = {\n",
    "    'model__estimator__n_estimators': [50, 100, 150],\n",
    "    'model__estimator__max_depth': [None, 10, 20, 30],\n",
    "    'model__estimator__min_samples_split': [2, 5, 10],\n",
    "    'model__estimator__min_samples_leaf': [1, 2, 4],\n",
    "    'model__estimator__max_features': [None, 'sqrt', 'log2'],\n",
    "}"
   ],
   "id": "65c03ee8c7d5c7ce",
   "outputs": [],
   "execution_count": null
  },
  {
   "metadata": {},
   "cell_type": "markdown",
   "source": "#### Randomized search",
   "id": "cf95d33d2b2d7c7f"
  },
  {
   "metadata": {},
   "cell_type": "code",
   "source": [
    "random_search = RandomizedSearchCV(\n",
    "    estimator=pipeline,\n",
    "    param_distributions=rf_parameters,\n",
    "    n_iter=30,\n",
    "    cv=5,\n",
    "    scoring='f1',\n",
    "    n_jobs=-1,\n",
    "    verbose=2,\n",
    "    random_state=42\n",
    ")"
   ],
   "id": "5b65eabec182543b",
   "outputs": [],
   "execution_count": null
  },
  {
   "metadata": {},
   "cell_type": "markdown",
   "source": "#### Fitting the model",
   "id": "1758be0324cd95e9"
  },
  {
   "metadata": {},
   "cell_type": "code",
   "source": [
    "print(\"Starting the training...\")\n",
    "random_search.fit(X_train, y_train)"
   ],
   "id": "d954a4d9726c9138",
   "outputs": [],
   "execution_count": null
  },
  {
   "metadata": {},
   "cell_type": "markdown",
   "source": [
    "## Model evaluation\n",
    "#### Best model and its parameters"
   ],
   "id": "109bbd5f6448e04a"
  },
  {
   "metadata": {},
   "cell_type": "code",
   "source": [
    "best_model = random_search.best_estimator_\n",
    "best_params = random_search.best_params_\n",
    "print(f\"Best parameters: {best_params}\")"
   ],
   "id": "9f2b91125e331f",
   "outputs": [],
   "execution_count": null
  },
  {
   "metadata": {},
   "cell_type": "markdown",
   "source": "#### evaluating the model",
   "id": "40ab921a43e420d1"
  },
  {
   "metadata": {},
   "cell_type": "code",
   "source": [
    "y_pred = best_model.predict(X_test)\n",
    "print(classification_report(y_test, y_pred))"
   ],
   "id": "4a1d241cb072ff59",
   "outputs": [],
   "execution_count": null
  },
  {
   "metadata": {},
   "cell_type": "markdown",
   "source": "## Saving the model",
   "id": "f4ed87a6c3e7ee25"
  },
  {
   "metadata": {},
   "cell_type": "code",
   "source": "joblib.dump(best_model, '../../../saved/mechanics_imputing/Multi_Ouput_Random_Forest.pkl')",
   "id": "64a7d9a8f856f212",
   "outputs": [],
   "execution_count": null
  }
 ],
 "metadata": {
  "kernelspec": {
   "display_name": "Python 3",
   "language": "python",
   "name": "python3"
  },
  "language_info": {
   "codemirror_mode": {
    "name": "ipython",
    "version": 2
   },
   "file_extension": ".py",
   "mimetype": "text/x-python",
   "name": "python",
   "nbconvert_exporter": "python",
   "pygments_lexer": "ipython2",
   "version": "2.7.6"
  }
 },
 "nbformat": 4,
 "nbformat_minor": 5
}
