{
 "cells": [
  {
   "cell_type": "code",
   "id": "initial_id",
   "metadata": {
    "collapsed": true
   },
   "source": [
    "import pandas as pd\n",
    "import numpy as np\n",
    "import math\n",
    "import joblib\n",
    "import matplotlib.pyplot as plt\n",
    "\n",
    "from sklearn.feature_selection import mutual_info_regression\n",
    "from sklearn.model_selection import train_test_split\n",
    "from sklearn.pipeline import Pipeline\n",
    "from sklearn.preprocessing import StandardScaler\n",
    "from sklearn.multioutput import MultiOutputClassifier\n",
    "from sklearn.model_selection import RandomizedSearchCV\n",
    "from sklearn.metrics import classification_report\n",
    "from scripts.custom_models import WeightedRandomForest\n",
    "from scripts.weight_calculation import calculate_one_hot_class_weights\n",
    "from scripts.MLSmote import get_minority_instace, MLSMOTE"
   ],
   "outputs": [],
   "execution_count": null
  },
  {
   "metadata": {},
   "cell_type": "markdown",
   "source": [
    "# Mechanics Weighted Classifier\n",
    "## Loading the dataset"
   ],
   "id": "c1630071ba2f373c"
  },
  {
   "metadata": {},
   "cell_type": "code",
   "source": "df = pd.read_excel('../../../data/BGG_Cleaned_Data_Set_Mechanics_Imputing_Custom_Imputed_Domains.xlsx')",
   "id": "c1628b3fd762c989",
   "outputs": [],
   "execution_count": null
  },
  {
   "metadata": {},
   "cell_type": "code",
   "source": "df.head()",
   "id": "531b4a3dd6d844c0",
   "outputs": [],
   "execution_count": null
  },
  {
   "metadata": {},
   "cell_type": "markdown",
   "source": [
    "## Feature Selection\n",
    "#### Calculating the mutual information for the mechanics column"
   ],
   "id": "8174d7fdc20a67aa"
  },
  {
   "metadata": {},
   "cell_type": "code",
   "source": [
    "df_mutual = df.drop(columns=['Strategy Games', 'Abstract Games', 'Thematic Games', 'Party Games', 'Wargames', 'Customizable Games', 'Children\\'s Games', 'Family Games', 'Mechanics', 'Other', 'Action and Turn Management', 'Resource Management', 'Interaction and Conflict', 'Game Progression and Mechanics', 'Auxiliary Mechanics', 'Narrative and Thematic', 'Movement and Positioning', 'Other', 'Specialized Mechanics', 'Strategic Elements'])\n",
    "\n",
    "df_mutual = df_mutual.dropna()\n",
    "\n",
    "df_mutual['Domains'] = df_mutual['Domains'].astype('category').cat.codes\n",
    "df_mutual['Mechanics_Categories'] = df_mutual['Mechanics_Categories'].astype('category').cat.codes\n",
    "\n",
    "# Define target and features\n",
    "target = df_mutual['Mechanics_Categories'].values\n",
    "features = df_mutual.drop(columns=['Mechanics_Categories'])\n",
    "mutual_info = mutual_info_regression(features, target, random_state=42, n_neighbors=5, discrete_features='auto')\n",
    "\n",
    "mutual_info_df = pd.DataFrame({\n",
    "    'Feature': features.columns,\n",
    "    'Mutual Information': mutual_info\n",
    "})\n",
    "\n",
    "mutual_info_df = mutual_info_df.sort_values(by='Mutual Information', ascending=False)\n",
    "# plt.figure(figsize=(10, 6))\n",
    "# plt.barh(mutual_info_df['Feature'], mutual_info_df['Mutual Information'])\n",
    "# plt.xlabel('Mutual Information')\n",
    "# plt.ylabel('Feature')\n",
    "# plt.title('Mutual Information for the Mechanics Column')\n",
    "# plt.gca().invert_yaxis()\n",
    "# plt.show()\n",
    "\n",
    "mutual_info_df"
   ],
   "id": "afd335d3ba6c16b1",
   "outputs": [],
   "execution_count": null
  },
  {
   "metadata": {},
   "cell_type": "markdown",
   "source": [
    "## Data Preprocessing\n",
    "#### Choosing the best features"
   ],
   "id": "c9dc3b9bfcaf3941"
  },
  {
   "metadata": {},
   "cell_type": "code",
   "source": [
    "# Selecting the features that have a mutual information higher than 0.2\n",
    "all_domains = df['Domains'].str.split(', ').explode().unique()\n",
    "selected_features = mutual_info_df[mutual_info_df['Mutual Information'] > 0.15]['Feature'].values\n",
    "\n",
    "# Selecting the valid domains\n",
    "valid_domains = [domain for domain in all_domains if domain in df.columns]\n",
    "\n",
    "# Selecting the columns to use\n",
    "columns_to_select = list(valid_domains) + list(selected_features)\n",
    "columns_to_select.remove('Domains')"
   ],
   "id": "288c2b7310d54a7b",
   "outputs": [],
   "execution_count": null
  },
  {
   "metadata": {},
   "cell_type": "code",
   "source": "print(columns_to_select)",
   "id": "2b0cb924d83cc9c9",
   "outputs": [],
   "execution_count": null
  },
  {
   "metadata": {},
   "cell_type": "markdown",
   "source": "#### Removing possible noise related to the domains",
   "id": "fa6c9f4af5f4d47b"
  },
  {
   "metadata": {},
   "cell_type": "code",
   "source": [
    "# Calculating the frequency of each mechanics category\n",
    "targets = list(df['Mechanics_Categories'].str.split(', ').explode().unique())\n",
    "targets = [item for item in targets if not (isinstance(item, float) and math.isnan(item))]\n",
    "\n",
    "mechanics_frequencies = df[targets].sum()\n",
    "total_mechanics_occurrences = df[targets].sum().sum()\n",
    "mechanics_frequencies"
   ],
   "id": "e4b785ff82a3461e",
   "outputs": [],
   "execution_count": null
  },
  {
   "metadata": {},
   "cell_type": "markdown",
   "source": "#### Removing some of the rows that have are overrepresented to balance the dataset",
   "id": "e219ba584f7a84f4"
  },
  {
   "metadata": {},
   "cell_type": "code",
   "source": [
    "num_rows_to_remove = 7000\n",
    "rows_to_remove = df[df['Game Progression and Mechanics'] == 1].sample(num_rows_to_remove, random_state=42).index\n",
    "df = df.drop(rows_to_remove)"
   ],
   "id": "bfd9fa9dfde3e94b",
   "outputs": [],
   "execution_count": null
  },
  {
   "metadata": {},
   "cell_type": "markdown",
   "source": "#### Encoding the mechanics column",
   "id": "2b0cc68c0cc238d2"
  },
  {
   "metadata": {},
   "cell_type": "code",
   "source": [
    "df.dropna(inplace=True)\n",
    "# Assigning the right features to the X variable and the target to the y variable\n",
    "X = df[columns_to_select]\n",
    "y = df[targets]"
   ],
   "id": "2bed80a373e54e5d",
   "outputs": [],
   "execution_count": null
  },
  {
   "metadata": {},
   "cell_type": "markdown",
   "source": [
    "## Model Training\n",
    "#### Splitting the data\n"
   ],
   "id": "7e621f7462e8dee1"
  },
  {
   "metadata": {},
   "cell_type": "code",
   "source": "X_train, X_test, y_train, y_test = train_test_split(X, y, test_size=0.2, random_state=42)",
   "id": "95f8fee62783656a",
   "outputs": [],
   "execution_count": null
  },
  {
   "metadata": {},
   "cell_type": "markdown",
   "source": "#### Using SMOTE to balance the classes",
   "id": "7ed9522b8250afa8"
  },
  {
   "metadata": {},
   "cell_type": "code",
   "source": [
    "X_sub, y_sub = get_minority_instace(X_train, y_train)\n",
    "X_resampled, y_resampled = MLSMOTE(X_sub, y_sub, 500)\n",
    "\n",
    "X_train = pd.concat([X_train, X_resampled], axis=0)\n",
    "y_train = pd.concat([y_train, y_resampled], axis=0)"
   ],
   "id": "3c62555972ec0c77",
   "outputs": [],
   "execution_count": null
  },
  {
   "metadata": {},
   "cell_type": "markdown",
   "source": "#### Calculating the class weights",
   "id": "2a59881a00fe5e2"
  },
  {
   "metadata": {},
   "cell_type": "code",
   "source": [
    "class_weights = calculate_one_hot_class_weights(y_train)\n",
    "class_weights"
   ],
   "id": "2db63cdd2f57627a",
   "outputs": [],
   "execution_count": null
  },
  {
   "metadata": {},
   "cell_type": "markdown",
   "source": "#### Defining the model",
   "id": "28a68239815af55d"
  },
  {
   "metadata": {},
   "cell_type": "code",
   "source": "rf_model = WeightedRandomForest(class_weights=class_weights)",
   "id": "8c17c0d4f9bb6f47",
   "outputs": [],
   "execution_count": null
  },
  {
   "metadata": {},
   "cell_type": "markdown",
   "source": "#### Wrapping the model in a MultiOutputClassifier",
   "id": "4bc13895934dc4b7"
  },
  {
   "metadata": {},
   "cell_type": "code",
   "source": "multi_output_model = MultiOutputClassifier(rf_model)",
   "id": "853483b743707b5a",
   "outputs": [],
   "execution_count": null
  },
  {
   "metadata": {},
   "cell_type": "markdown",
   "source": "#### Defining the pipeline",
   "id": "6ddc9ea4c2e2ab3d"
  },
  {
   "metadata": {},
   "cell_type": "code",
   "source": [
    "pipeline = Pipeline([\n",
    "    ('scaler', StandardScaler()),\n",
    "    ('model', multi_output_model)\n",
    "])"
   ],
   "id": "608075312bf082d6",
   "outputs": [],
   "execution_count": null
  },
  {
   "metadata": {},
   "cell_type": "markdown",
   "source": [
    "## Hyperparameter Tuning\n",
    "#### Defining the hyperparameters"
   ],
   "id": "260dfd738aba6d06"
  },
  {
   "metadata": {},
   "cell_type": "code",
   "source": [
    "rf_parameters = {\n",
    "    'model__estimator__n_estimators': [50, 100, 150],\n",
    "    'model__estimator__max_depth': [None, 10, 20, 30],\n",
    "    'model__estimator__min_samples_split': [2, 5, 10],\n",
    "    'model__estimator__min_samples_leaf': [1, 2, 4],\n",
    "    'model__estimator__max_features': [None, 'sqrt', 'log2'],\n",
    "}"
   ],
   "id": "74f0181a12131371",
   "outputs": [],
   "execution_count": null
  },
  {
   "metadata": {},
   "cell_type": "markdown",
   "source": "#### Randomized search",
   "id": "cdbb1e96090b8f3f"
  },
  {
   "metadata": {},
   "cell_type": "code",
   "source": [
    "random_search = RandomizedSearchCV(\n",
    "    estimator=pipeline,\n",
    "    param_distributions=rf_parameters,\n",
    "    n_iter=50,\n",
    "    cv=5,\n",
    "    scoring='f1_micro',\n",
    "    n_jobs=-1,\n",
    "    verbose=2,\n",
    "    random_state=42\n",
    ")"
   ],
   "id": "bf44d039daa0deaa",
   "outputs": [],
   "execution_count": null
  },
  {
   "metadata": {},
   "cell_type": "markdown",
   "source": "#### Fitting the model",
   "id": "87d74e82fa496380"
  },
  {
   "metadata": {},
   "cell_type": "code",
   "source": [
    "print(\"Starting the training...\")\n",
    "random_search.fit(X_train, y_train)"
   ],
   "id": "d5bcbf7aba109677",
   "outputs": [],
   "execution_count": null
  },
  {
   "metadata": {},
   "cell_type": "markdown",
   "source": [
    "## Model Evaluation\n",
    "#### Best model and its parameters"
   ],
   "id": "51f7fd8049a08eef"
  },
  {
   "metadata": {},
   "cell_type": "code",
   "source": [
    "best_model = random_search.best_estimator_\n",
    "best_params = random_search.best_params_\n",
    "print(f\"Best parameters: {best_params}\")"
   ],
   "id": "583abde69ffc6413",
   "outputs": [],
   "execution_count": null
  },
  {
   "metadata": {},
   "cell_type": "markdown",
   "source": "#### Evaluating the model",
   "id": "2829fc45b60b6bd4"
  },
  {
   "metadata": {},
   "cell_type": "code",
   "source": [
    "y_pred = best_model.predict(X_test)\n",
    "y_pred = y_pred.reshape(y_pred.shape[1], y_pred.shape[2])\n",
    "print(classification_report(y_test, y_pred))"
   ],
   "id": "5478f720d7adce9e",
   "outputs": [],
   "execution_count": null
  },
  {
   "metadata": {},
   "cell_type": "code",
   "source": "joblib.dump(best_model, '../../../saved/mechanics_imputing/multi_output_classifier_weighted_custom.pkl')",
   "id": "a230aabc6871b9f0",
   "outputs": [],
   "execution_count": null
  }
 ],
 "metadata": {
  "kernelspec": {
   "display_name": "Python 3",
   "language": "python",
   "name": "python3"
  },
  "language_info": {
   "codemirror_mode": {
    "name": "ipython",
    "version": 2
   },
   "file_extension": ".py",
   "mimetype": "text/x-python",
   "name": "python",
   "nbconvert_exporter": "python",
   "pygments_lexer": "ipython2",
   "version": "2.7.6"
  }
 },
 "nbformat": 4,
 "nbformat_minor": 5
}
