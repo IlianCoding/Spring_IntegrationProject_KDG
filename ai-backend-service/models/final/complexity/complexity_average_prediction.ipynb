{
 "cells": [
  {
   "cell_type": "code",
   "id": "initial_id",
   "metadata": {
    "collapsed": true,
    "ExecuteTime": {
     "end_time": "2025-01-05T12:11:33.395873Z",
     "start_time": "2025-01-05T12:11:32.611416Z"
    }
   },
   "source": [
    "import pandas as pd\n",
    "import joblib\n",
    "\n",
    "from sklearn.model_selection import train_test_split\n",
    "from sklearn.preprocessing import StandardScaler\n",
    "from scripts.custom_models import random_forest_tuning\n",
    "from scripts.custom_models import light_gbm_tuning\n",
    "from scripts.custom_models import create_stacked_model\n",
    "from scripts.custom_models import evaluate_model"
   ],
   "outputs": [],
   "execution_count": 1
  },
  {
   "metadata": {},
   "cell_type": "markdown",
   "source": [
    "# Complexity Average Prediction\n",
    "### Loading the dataset"
   ],
   "id": "b70a4be518b61288"
  },
  {
   "metadata": {
    "ExecuteTime": {
     "end_time": "2025-01-05T12:11:35.791448Z",
     "start_time": "2025-01-05T12:11:34.001318Z"
    }
   },
   "cell_type": "code",
   "source": "df = pd.read_excel('../../../data/Selected_Features_Complexity_Average.xlsx')",
   "id": "7fecc15c20c489ac",
   "outputs": [],
   "execution_count": 2
  },
  {
   "metadata": {},
   "cell_type": "markdown",
   "source": "### Data preparation",
   "id": "a55e56d6ee1ec9b5"
  },
  {
   "metadata": {
    "ExecuteTime": {
     "end_time": "2025-01-05T12:11:36.095730Z",
     "start_time": "2025-01-05T12:11:36.089457Z"
    }
   },
   "cell_type": "code",
   "source": [
    "X = df.drop(columns=['Complexity Average'])\n",
    "y = df['Complexity Average']\n",
    "\n",
    "X_train, X_test, y_train, y_test = train_test_split(X, y, test_size=0.2, random_state=42)"
   ],
   "id": "c212ababed940e0d",
   "outputs": [],
   "execution_count": 3
  },
  {
   "metadata": {
    "ExecuteTime": {
     "end_time": "2025-01-05T12:11:37.938155Z",
     "start_time": "2025-01-05T12:11:37.929015Z"
    }
   },
   "cell_type": "code",
   "source": [
    "scaler = StandardScaler()\n",
    "X_train_scaled = scaler.fit_transform(X_train)\n",
    "X_test_scaled = scaler.transform(X_test)"
   ],
   "id": "e498681fde908941",
   "outputs": [],
   "execution_count": 4
  },
  {
   "metadata": {},
   "cell_type": "markdown",
   "source": [
    "### Random Forest\n",
    "#### Training the model"
   ],
   "id": "340a5e6fa67bb9b6"
  },
  {
   "metadata": {
    "ExecuteTime": {
     "end_time": "2025-01-05T06:51:02.787947Z",
     "start_time": "2025-01-05T06:45:48.806196Z"
    }
   },
   "cell_type": "code",
   "source": "rf_model = random_forest_tuning(X_train_scaled, y_train)",
   "id": "88eb92dd0f01032d",
   "outputs": [],
   "execution_count": 14
  },
  {
   "metadata": {},
   "cell_type": "markdown",
   "source": "#### Evaluating the model",
   "id": "c39f03f8d9a39c75"
  },
  {
   "metadata": {
    "ExecuteTime": {
     "end_time": "2025-01-05T06:51:02.903609Z",
     "start_time": "2025-01-05T06:51:02.811218Z"
    }
   },
   "cell_type": "code",
   "source": [
    "rf_pred = rf_model.predict(X_test_scaled)\n",
    "mse_rf, mae_rf, r2_rf = evaluate_model(y_test, rf_pred)\n",
    "\n",
    "print(f\"Mean Squared Error: {mse_rf}\")\n",
    "print(f\"Mean Absolute Error: {mae_rf}\")\n",
    "print(f\"R2 Score: {r2_rf}\")"
   ],
   "id": "9ab9d3bf33d3ff87",
   "outputs": [
    {
     "name": "stdout",
     "output_type": "stream",
     "text": [
      "Mean Squared Error: 0.2736138320863835\n",
      "Mean Absolute Error: 0.3801807307800528\n",
      "R2 Score: 0.6216695138965629\n"
     ]
    }
   ],
   "execution_count": 15
  },
  {
   "metadata": {},
   "cell_type": "markdown",
   "source": [
    "### LightGBM\n",
    "#### Training the model"
   ],
   "id": "c0865ad4d6521e31"
  },
  {
   "metadata": {
    "ExecuteTime": {
     "end_time": "2025-01-05T06:54:39.864281Z",
     "start_time": "2025-01-05T06:51:02.929492Z"
    }
   },
   "cell_type": "code",
   "source": "light_gbm_model = light_gbm_tuning(X_train_scaled, y_train)",
   "id": "ac15a69428d78606",
   "outputs": [
    {
     "name": "stdout",
     "output_type": "stream",
     "text": [
      "[LightGBM] [Warning] min_data_in_leaf is set with min_child_samples=20, will be overridden by min_samples_leaf=4. Current value: min_data_in_leaf=4\n",
      "[LightGBM] [Warning] Unknown parameter: min_samples_split\n",
      "[LightGBM] [Warning] min_data_in_leaf is set with min_child_samples=20, will be overridden by min_samples_leaf=4. Current value: min_data_in_leaf=4\n",
      "[LightGBM] [Warning] Unknown parameter: min_samples_split\n",
      "[LightGBM] [Info] Auto-choosing row-wise multi-threading, the overhead of testing was 0.001485 seconds.\n",
      "You can set `force_row_wise=true` to remove the overhead.\n",
      "And if memory is not enough, you can set `force_col_wise=true`.\n",
      "[LightGBM] [Info] Total Bins 397\n",
      "[LightGBM] [Info] Number of data points in the train set: 16093, number of used features: 21\n",
      "[LightGBM] [Info] Start training from score 1.987583\n"
     ]
    }
   ],
   "execution_count": 16
  },
  {
   "metadata": {},
   "cell_type": "markdown",
   "source": "#### Evaluating the model",
   "id": "5d35b6d1ed95d0d6"
  },
  {
   "metadata": {
    "ExecuteTime": {
     "end_time": "2025-01-05T06:54:39.919843Z",
     "start_time": "2025-01-05T06:54:39.905267Z"
    }
   },
   "cell_type": "code",
   "source": [
    "light_gbm_pred = light_gbm_model.predict(X_test_scaled)\n",
    "mse_gbm, mae_gbm, r2_gbm = evaluate_model(y_test, light_gbm_pred)\n",
    "\n",
    "print(f\"Mean Squared Error: {mse_gbm}\")\n",
    "print(f\"Mean Absolute Error: {mae_gbm}\")\n",
    "print(f\"R2 Score: {r2_gbm}\")"
   ],
   "id": "863d944fe71f13d5",
   "outputs": [
    {
     "name": "stdout",
     "output_type": "stream",
     "text": [
      "[LightGBM] [Warning] min_data_in_leaf is set with min_child_samples=20, will be overridden by min_samples_leaf=4. Current value: min_data_in_leaf=4\n",
      "[LightGBM] [Warning] Unknown parameter: min_samples_split\n",
      "Mean Squared Error: 0.2612489932901297\n",
      "Mean Absolute Error: 0.36958685248458034\n",
      "R2 Score: 0.6387665862072216\n"
     ]
    }
   ],
   "execution_count": 17
  },
  {
   "metadata": {},
   "cell_type": "markdown",
   "source": [
    "### Stacked Model\n",
    "#### Training the model"
   ],
   "id": "29c6c84df6c8505e"
  },
  {
   "metadata": {
    "ExecuteTime": {
     "end_time": "2025-01-05T07:03:49.441064Z",
     "start_time": "2025-01-05T06:54:39.967382Z"
    }
   },
   "cell_type": "code",
   "source": "stacked_model = create_stacked_model(X_train_scaled, y_train)",
   "id": "b58951f0a39009ac",
   "outputs": [
    {
     "name": "stdout",
     "output_type": "stream",
     "text": [
      "[LightGBM] [Warning] min_data_in_leaf is set with min_child_samples=20, will be overridden by min_samples_leaf=4. Current value: min_data_in_leaf=4\n",
      "[LightGBM] [Warning] Unknown parameter: min_samples_split\n",
      "[LightGBM] [Warning] min_data_in_leaf is set with min_child_samples=20, will be overridden by min_samples_leaf=4. Current value: min_data_in_leaf=4\n",
      "[LightGBM] [Warning] Unknown parameter: min_samples_split\n",
      "[LightGBM] [Info] Auto-choosing row-wise multi-threading, the overhead of testing was 0.001501 seconds.\n",
      "You can set `force_row_wise=true` to remove the overhead.\n",
      "And if memory is not enough, you can set `force_col_wise=true`.\n",
      "[LightGBM] [Info] Total Bins 397\n",
      "[LightGBM] [Info] Number of data points in the train set: 16093, number of used features: 21\n",
      "[LightGBM] [Info] Start training from score 1.987583\n"
     ]
    }
   ],
   "execution_count": 18
  },
  {
   "metadata": {},
   "cell_type": "markdown",
   "source": "#### Evaluating the model",
   "id": "fff71defb45b2c4d"
  },
  {
   "metadata": {
    "ExecuteTime": {
     "end_time": "2025-01-05T07:03:49.827869Z",
     "start_time": "2025-01-05T07:03:49.493058Z"
    }
   },
   "cell_type": "code",
   "source": [
    "stacked_pred = stacked_model.predict(X_test_scaled)\n",
    "mse_stacked, mae_stacked, r2_stacked = evaluate_model(y_test, stacked_pred)\n",
    "\n",
    "print(f\"Mean Squared Error: {mse_stacked}\")\n",
    "print(f\"Mean Absolute Error: {mae_stacked}\")\n",
    "print(f\"R2 Score: {r2_stacked}\")"
   ],
   "id": "69abd8efd6e99e07",
   "outputs": [
    {
     "name": "stdout",
     "output_type": "stream",
     "text": [
      "[LightGBM] [Warning] min_data_in_leaf is set with min_child_samples=20, will be overridden by min_samples_leaf=4. Current value: min_data_in_leaf=4\n",
      "[LightGBM] [Warning] Unknown parameter: min_samples_split\n",
      "Mean Squared Error: 0.25814023993570256\n",
      "Mean Absolute Error: 0.36707762783307846\n",
      "R2 Score: 0.6430651121946972\n"
     ]
    }
   ],
   "execution_count": 19
  },
  {
   "metadata": {},
   "cell_type": "markdown",
   "source": [
    "### Conclusion\n",
    "#### Taking the best model and its evaluation metrics"
   ],
   "id": "31f77323b8267373"
  },
  {
   "metadata": {
    "ExecuteTime": {
     "end_time": "2025-01-05T07:03:49.865638Z",
     "start_time": "2025-01-05T07:03:49.859419Z"
    }
   },
   "cell_type": "code",
   "source": [
    "best_model = min([\n",
    "    ('Random Forest', mse_rf, mae_rf, r2_rf, rf_model),\n",
    "    ('LightGBM', mse_gbm, mae_gbm, r2_gbm, light_gbm_model),\n",
    "    ('Stacked Model', mse_stacked, mae_stacked, r2_stacked, stacked_model)\n",
    "], key=lambda x: x[1])\n",
    "\n",
    "print(f\"Best Model: {best_model[0]}\")"
   ],
   "id": "a52d3c5647e66f3c",
   "outputs": [
    {
     "name": "stdout",
     "output_type": "stream",
     "text": [
      "Best Model: Stacked Model\n"
     ]
    }
   ],
   "execution_count": 20
  },
  {
   "metadata": {},
   "cell_type": "markdown",
   "source": "#### Saving the best model",
   "id": "6e2a2decad45ed3c"
  },
  {
   "metadata": {
    "ExecuteTime": {
     "end_time": "2025-01-05T12:11:41.063422Z",
     "start_time": "2025-01-05T12:11:41.058290Z"
    }
   },
   "cell_type": "code",
   "source": [
    "joblib.dump(best_model[4], '../../../app/saved_models/complexity_average_model.pkl')\n",
    "joblib.dump(scaler, '../../../app/saved_models/complexity_average_scaler.pkl')"
   ],
   "id": "7be88f0ca044c777",
   "outputs": [
    {
     "data": {
      "text/plain": [
       "['../../../app/saved_models/complexity_average_scaler.pkl']"
      ]
     },
     "execution_count": 5,
     "metadata": {},
     "output_type": "execute_result"
    }
   ],
   "execution_count": 5
  }
 ],
 "metadata": {
  "kernelspec": {
   "display_name": "Python 3",
   "language": "python",
   "name": "python3"
  },
  "language_info": {
   "codemirror_mode": {
    "name": "ipython",
    "version": 2
   },
   "file_extension": ".py",
   "mimetype": "text/x-python",
   "name": "python",
   "nbconvert_exporter": "python",
   "pygments_lexer": "ipython2",
   "version": "2.7.6"
  }
 },
 "nbformat": 4,
 "nbformat_minor": 5
}
