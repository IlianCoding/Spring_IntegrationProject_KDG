{
 "cells": [
  {
   "cell_type": "code",
   "id": "initial_id",
   "metadata": {
    "collapsed": true,
    "ExecuteTime": {
     "end_time": "2025-01-05T12:11:10.002024Z",
     "start_time": "2025-01-05T12:11:09.998379Z"
    }
   },
   "source": [
    "import pandas as pd\n",
    "import joblib\n",
    "\n",
    "from sklearn.model_selection import train_test_split\n",
    "from sklearn.preprocessing import StandardScaler\n",
    "from scripts.custom_models import catboost_model_tuning\n",
    "from scripts.custom_models import elastic_net_model_tuning\n",
    "from scripts.custom_models import random_forest_tuning\n",
    "from scripts.custom_models import light_gbm_tuning\n",
    "from scripts.custom_models import knn_model_tuning\n",
    "from scripts.custom_models import create_stacked_model\n",
    "from scripts.custom_models import evaluate_model"
   ],
   "outputs": [],
   "execution_count": 5
  },
  {
   "metadata": {},
   "cell_type": "markdown",
   "source": [
    "# Owned Users Prediction\n",
    "### Loading the dataset"
   ],
   "id": "b70a4be518b61288"
  },
  {
   "metadata": {
    "ExecuteTime": {
     "end_time": "2025-01-05T12:11:13.556621Z",
     "start_time": "2025-01-05T12:11:11.851177Z"
    }
   },
   "cell_type": "code",
   "source": "df = pd.read_excel('../../../data/Selected_Features_Owned_Users.xlsx')",
   "id": "7fecc15c20c489ac",
   "outputs": [],
   "execution_count": 6
  },
  {
   "metadata": {},
   "cell_type": "markdown",
   "source": "### Data preparation",
   "id": "a55e56d6ee1ec9b5"
  },
  {
   "metadata": {
    "ExecuteTime": {
     "end_time": "2025-01-05T12:11:13.688436Z",
     "start_time": "2025-01-05T12:11:13.682087Z"
    }
   },
   "cell_type": "code",
   "source": [
    "X = df.drop(columns=['Owned Users'])\n",
    "y = df['Owned Users']\n",
    "\n",
    "X_train, X_test, y_train, y_test = train_test_split(X, y, test_size=0.2, random_state=42)"
   ],
   "id": "c212ababed940e0d",
   "outputs": [],
   "execution_count": 7
  },
  {
   "metadata": {
    "ExecuteTime": {
     "end_time": "2025-01-05T12:11:15.555768Z",
     "start_time": "2025-01-05T12:11:15.547142Z"
    }
   },
   "cell_type": "code",
   "source": [
    "scaler = StandardScaler()\n",
    "X_train_scaled = scaler.fit_transform(X_train)\n",
    "X_test_scaled = scaler.transform(X_test)"
   ],
   "id": "e498681fde908941",
   "outputs": [],
   "execution_count": 8
  },
  {
   "metadata": {},
   "cell_type": "markdown",
   "source": [
    "### Random Forest\n",
    "#### Training the model"
   ],
   "id": "340a5e6fa67bb9b6"
  },
  {
   "metadata": {
    "ExecuteTime": {
     "end_time": "2025-01-05T07:13:16.966054Z",
     "start_time": "2025-01-05T07:06:29.809425Z"
    }
   },
   "cell_type": "code",
   "source": "rf_model = random_forest_tuning(X_train_scaled, y_train)",
   "id": "88eb92dd0f01032d",
   "outputs": [],
   "execution_count": 6
  },
  {
   "metadata": {},
   "cell_type": "markdown",
   "source": "#### Evaluating the model",
   "id": "c39f03f8d9a39c75"
  },
  {
   "metadata": {
    "ExecuteTime": {
     "end_time": "2025-01-05T07:13:17.102737Z",
     "start_time": "2025-01-05T07:13:16.992228Z"
    }
   },
   "cell_type": "code",
   "source": [
    "rf_pred = rf_model.predict(X_test_scaled)\n",
    "mse_rf, mae_rf, r2_rf = evaluate_model(y_test, rf_pred)\n",
    "\n",
    "print(f\"Mean Squared Error: {mse_rf}\")\n",
    "print(f\"Mean Absolute Error: {mae_rf}\")\n",
    "print(f\"R2 Score: {r2_rf}\")"
   ],
   "id": "9ab9d3bf33d3ff87",
   "outputs": [
    {
     "name": "stdout",
     "output_type": "stream",
     "text": [
      "Mean Squared Error: 475836.64034838945\n",
      "Mean Absolute Error: 243.97572828226308\n",
      "R2 Score: 0.9776419217312802\n"
     ]
    }
   ],
   "execution_count": 7
  },
  {
   "metadata": {},
   "cell_type": "markdown",
   "source": [
    "### LightGBM\n",
    "#### Training the model"
   ],
   "id": "c0865ad4d6521e31"
  },
  {
   "metadata": {
    "ExecuteTime": {
     "end_time": "2025-01-05T07:16:53.319400Z",
     "start_time": "2025-01-05T07:13:17.109258Z"
    }
   },
   "cell_type": "code",
   "source": "light_gbm_model = light_gbm_tuning(X_train_scaled, y_train)",
   "id": "ac15a69428d78606",
   "outputs": [
    {
     "name": "stdout",
     "output_type": "stream",
     "text": [
      "[LightGBM] [Warning] min_data_in_leaf is set with min_child_samples=20, will be overridden by min_samples_leaf=1. Current value: min_data_in_leaf=1\n",
      "[LightGBM] [Warning] Unknown parameter: min_samples_split\n",
      "[LightGBM] [Warning] min_data_in_leaf is set with min_child_samples=20, will be overridden by min_samples_leaf=1. Current value: min_data_in_leaf=1\n",
      "[LightGBM] [Warning] Unknown parameter: min_samples_split\n",
      "[LightGBM] [Info] Auto-choosing row-wise multi-threading, the overhead of testing was 0.001251 seconds.\n",
      "You can set `force_row_wise=true` to remove the overhead.\n",
      "And if memory is not enough, you can set `force_col_wise=true`.\n",
      "[LightGBM] [Info] Total Bins 586\n",
      "[LightGBM] [Info] Number of data points in the train set: 16116, number of used features: 21\n",
      "[LightGBM] [Info] Start training from score 1434.624411\n"
     ]
    }
   ],
   "execution_count": 8
  },
  {
   "metadata": {},
   "cell_type": "markdown",
   "source": "#### Evaluating the model",
   "id": "5d35b6d1ed95d0d6"
  },
  {
   "metadata": {
    "ExecuteTime": {
     "end_time": "2025-01-05T07:16:53.401902Z",
     "start_time": "2025-01-05T07:16:53.390307Z"
    }
   },
   "cell_type": "code",
   "source": [
    "light_gbm_pred = light_gbm_model.predict(X_test_scaled)\n",
    "mse_gbm, mae_gbm, r2_gbm = evaluate_model(y_test, light_gbm_pred)\n",
    "\n",
    "print(f\"Mean Squared Error: {mse_gbm}\")\n",
    "print(f\"Mean Absolute Error: {mae_gbm}\")\n",
    "print(f\"R2 Score: {r2_gbm}\")"
   ],
   "id": "863d944fe71f13d5",
   "outputs": [
    {
     "name": "stdout",
     "output_type": "stream",
     "text": [
      "[LightGBM] [Warning] min_data_in_leaf is set with min_child_samples=20, will be overridden by min_samples_leaf=1. Current value: min_data_in_leaf=1\n",
      "[LightGBM] [Warning] Unknown parameter: min_samples_split\n",
      "Mean Squared Error: 3110995.83728732\n",
      "Mean Absolute Error: 290.1990815788666\n",
      "R2 Score: 0.8538240174762389\n"
     ]
    }
   ],
   "execution_count": 9
  },
  {
   "metadata": {},
   "cell_type": "markdown",
   "source": [
    "### Catboost\n",
    "#### Training the model"
   ],
   "id": "86c67d2df50458c3"
  },
  {
   "metadata": {
    "ExecuteTime": {
     "end_time": "2025-01-05T07:16:56.186016Z",
     "start_time": "2025-01-05T07:16:53.447107Z"
    }
   },
   "cell_type": "code",
   "source": "catboost_model = catboost_model_tuning(X_train_scaled, y_train)",
   "id": "fc8818c3b88f2dbc",
   "outputs": [],
   "execution_count": 10
  },
  {
   "metadata": {},
   "cell_type": "markdown",
   "source": "#### Evaluating the model",
   "id": "5bcf45702e419060"
  },
  {
   "metadata": {
    "ExecuteTime": {
     "end_time": "2025-01-05T07:16:56.219808Z",
     "start_time": "2025-01-05T07:16:56.210217Z"
    }
   },
   "cell_type": "code",
   "source": [
    "catboost_pred = catboost_model.predict(X_test_scaled)\n",
    "mse_cat, mace_cat, r2_cat = evaluate_model(y_test, catboost_pred)\n",
    "\n",
    "print(f\"Mean Squared Error: {mse_cat}\")\n",
    "print(f\"Mean Absolute Error: {mace_cat}\")\n",
    "print(f\"R2 Score: {r2_cat}\")"
   ],
   "id": "67bf5c620ed383f4",
   "outputs": [
    {
     "name": "stdout",
     "output_type": "stream",
     "text": [
      "Mean Squared Error: 2534222.237316818\n",
      "Mean Absolute Error: 304.3432873625702\n",
      "R2 Score: 0.8809248083737834\n"
     ]
    }
   ],
   "execution_count": 11
  },
  {
   "metadata": {},
   "cell_type": "markdown",
   "source": [
    "### Elastic net\n",
    "#### Training the model"
   ],
   "id": "938b19af26ea57ae"
  },
  {
   "metadata": {
    "ExecuteTime": {
     "end_time": "2025-01-05T07:16:56.893065Z",
     "start_time": "2025-01-05T07:16:56.242612Z"
    }
   },
   "cell_type": "code",
   "source": "elastic_net_model = elastic_net_model_tuning(X_train_scaled, y_train)",
   "id": "3a2849d685120cc",
   "outputs": [],
   "execution_count": 12
  },
  {
   "metadata": {},
   "cell_type": "markdown",
   "source": "#### Evaluating the model",
   "id": "cbb916853964050"
  },
  {
   "metadata": {
    "ExecuteTime": {
     "end_time": "2025-01-05T07:16:56.925276Z",
     "start_time": "2025-01-05T07:16:56.917073Z"
    }
   },
   "cell_type": "code",
   "source": [
    "elastic_pred = elastic_net_model.predict(X_test_scaled)\n",
    "mse_elastic, mae_elastic, r2_elastic = evaluate_model(y_test, elastic_pred)\n",
    "\n",
    "print(f\"Mean Squared Error: {mse_elastic}\")\n",
    "print(f\"Mean Absolute Error: {mae_elastic}\")\n",
    "print(f\"R2 Score: {r2_elastic}\")"
   ],
   "id": "e0eb520c0c93a3b5",
   "outputs": [
    {
     "name": "stdout",
     "output_type": "stream",
     "text": [
      "Mean Squared Error: 482530.7273472649\n",
      "Mean Absolute Error: 302.1182012678711\n",
      "R2 Score: 0.9773273874807255\n"
     ]
    }
   ],
   "execution_count": 13
  },
  {
   "metadata": {},
   "cell_type": "markdown",
   "source": [
    "### Knn\n",
    "#### Training the model"
   ],
   "id": "708c2ae332b7c27c"
  },
  {
   "metadata": {
    "ExecuteTime": {
     "end_time": "2025-01-05T07:17:00.726961Z",
     "start_time": "2025-01-05T07:16:56.947894Z"
    }
   },
   "cell_type": "code",
   "source": "knn_model = knn_model_tuning(X_train_scaled, y_train)",
   "id": "2d30bec4fa520d50",
   "outputs": [],
   "execution_count": 14
  },
  {
   "metadata": {},
   "cell_type": "markdown",
   "source": "#### Evaluating the model",
   "id": "7f53ed8ddc97cb42"
  },
  {
   "metadata": {
    "ExecuteTime": {
     "end_time": "2025-01-05T07:17:00.857295Z",
     "start_time": "2025-01-05T07:17:00.750824Z"
    }
   },
   "cell_type": "code",
   "source": [
    "knn_pred = knn_model.predict(X_test_scaled)\n",
    "mse_knn, mae_knn, r2_knn = evaluate_model(y_test, knn_pred)\n",
    "\n",
    "print(f\"Mean Squared Error: {mse_knn}\")\n",
    "print(f\"Mean Absolute Error: {mae_knn}\")\n",
    "print(f\"R2 Score: {r2_knn}\")"
   ],
   "id": "b3f580bf77bdd4ad",
   "outputs": [
    {
     "name": "stdout",
     "output_type": "stream",
     "text": [
      "Mean Squared Error: 2708795.9377108454\n",
      "Mean Absolute Error: 665.9317341783538\n",
      "R2 Score: 0.8727221351744014\n"
     ]
    }
   ],
   "execution_count": 15
  },
  {
   "metadata": {},
   "cell_type": "markdown",
   "source": [
    "### Stacked Model\n",
    "#### Training the model"
   ],
   "id": "29c6c84df6c8505e"
  },
  {
   "metadata": {
    "ExecuteTime": {
     "end_time": "2025-01-05T07:25:37.858382Z",
     "start_time": "2025-01-05T07:17:00.897306Z"
    }
   },
   "cell_type": "code",
   "source": "stacked_model = create_stacked_model(X_train_scaled, y_train)",
   "id": "b58951f0a39009ac",
   "outputs": [
    {
     "name": "stdout",
     "output_type": "stream",
     "text": [
      "[LightGBM] [Warning] min_data_in_leaf is set with min_child_samples=20, will be overridden by min_samples_leaf=1. Current value: min_data_in_leaf=1\n",
      "[LightGBM] [Warning] Unknown parameter: min_samples_split\n",
      "[LightGBM] [Warning] min_data_in_leaf is set with min_child_samples=20, will be overridden by min_samples_leaf=1. Current value: min_data_in_leaf=1\n",
      "[LightGBM] [Warning] Unknown parameter: min_samples_split\n",
      "[LightGBM] [Info] Auto-choosing row-wise multi-threading, the overhead of testing was 0.000925 seconds.\n",
      "You can set `force_row_wise=true` to remove the overhead.\n",
      "And if memory is not enough, you can set `force_col_wise=true`.\n",
      "[LightGBM] [Info] Total Bins 586\n",
      "[LightGBM] [Info] Number of data points in the train set: 16116, number of used features: 21\n",
      "[LightGBM] [Info] Start training from score 1434.624411\n"
     ]
    }
   ],
   "execution_count": 16
  },
  {
   "metadata": {},
   "cell_type": "markdown",
   "source": "#### Evaluating the model",
   "id": "fff71defb45b2c4d"
  },
  {
   "metadata": {
    "ExecuteTime": {
     "end_time": "2025-01-05T07:25:38.048185Z",
     "start_time": "2025-01-05T07:25:37.915859Z"
    }
   },
   "cell_type": "code",
   "source": [
    "stacked_pred = stacked_model.predict(X_test_scaled)\n",
    "mse_stacked, mae_stacked, r2_stacked = evaluate_model(y_test, stacked_pred)\n",
    "\n",
    "print(f\"Mean Squared Error: {mse_stacked}\")\n",
    "print(f\"Mean Absolute Error: {mae_stacked}\")\n",
    "print(f\"R2 Score: {r2_stacked}\")"
   ],
   "id": "69abd8efd6e99e07",
   "outputs": [
    {
     "name": "stdout",
     "output_type": "stream",
     "text": [
      "[LightGBM] [Warning] min_data_in_leaf is set with min_child_samples=20, will be overridden by min_samples_leaf=1. Current value: min_data_in_leaf=1\n",
      "[LightGBM] [Warning] Unknown parameter: min_samples_split\n",
      "Mean Squared Error: 450486.94298113906\n",
      "Mean Absolute Error: 275.61134321399396\n",
      "R2 Score: 0.978833024874179\n"
     ]
    }
   ],
   "execution_count": 17
  },
  {
   "metadata": {},
   "cell_type": "markdown",
   "source": [
    "### Conclusion\n",
    "#### Taking the best model and its evaluation metrics"
   ],
   "id": "31f77323b8267373"
  },
  {
   "metadata": {
    "ExecuteTime": {
     "end_time": "2025-01-05T07:25:38.056971Z",
     "start_time": "2025-01-05T07:25:38.053127Z"
    }
   },
   "cell_type": "code",
   "source": [
    "best_model = min([\n",
    "    ('Random Forest', mse_rf, mae_rf, r2_rf, rf_model),\n",
    "    ('LightGBM', mse_gbm, mae_gbm, r2_gbm, light_gbm_model),\n",
    "    ('Catboost', mse_cat, mace_cat, r2_cat, catboost_model),\n",
    "    ('Elastic Net', mse_elastic, mae_elastic, r2_elastic, elastic_net_model),\n",
    "    ('Knn', mse_knn, mae_knn, r2_knn, knn_model),\n",
    "    ('Stacked Model', mse_stacked, mae_stacked, r2_stacked, stacked_model)\n",
    "], key=lambda x: x[1])\n",
    "\n",
    "print(f\"Best Model: {best_model[0]}\")"
   ],
   "id": "a52d3c5647e66f3c",
   "outputs": [
    {
     "name": "stdout",
     "output_type": "stream",
     "text": [
      "Best Model: Stacked Model\n"
     ]
    }
   ],
   "execution_count": 18
  },
  {
   "metadata": {},
   "cell_type": "markdown",
   "source": "#### Saving the best model",
   "id": "6e2a2decad45ed3c"
  },
  {
   "metadata": {
    "ExecuteTime": {
     "end_time": "2025-01-05T12:11:19.567331Z",
     "start_time": "2025-01-05T12:11:19.564013Z"
    }
   },
   "cell_type": "code",
   "source": [
    "joblib.dump(best_model[4], '../../../app/saved_models/owned_users_model.pkl')\n",
    "joblib.dump(scaler, '../../../app/saved_models/owned_users_scaler.pkl')"
   ],
   "id": "7be88f0ca044c777",
   "outputs": [
    {
     "data": {
      "text/plain": [
       "['../../../app/saved_models/owned_users_scaler.pkl']"
      ]
     },
     "execution_count": 9,
     "metadata": {},
     "output_type": "execute_result"
    }
   ],
   "execution_count": 9
  }
 ],
 "metadata": {
  "kernelspec": {
   "display_name": "Python 3",
   "language": "python",
   "name": "python3"
  },
  "language_info": {
   "codemirror_mode": {
    "name": "ipython",
    "version": 2
   },
   "file_extension": ".py",
   "mimetype": "text/x-python",
   "name": "python",
   "nbconvert_exporter": "python",
   "pygments_lexer": "ipython2",
   "version": "2.7.6"
  }
 },
 "nbformat": 4,
 "nbformat_minor": 5
}
