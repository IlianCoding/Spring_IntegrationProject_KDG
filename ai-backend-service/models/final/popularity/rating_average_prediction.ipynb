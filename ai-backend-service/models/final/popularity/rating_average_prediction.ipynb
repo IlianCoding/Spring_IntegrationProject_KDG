{
 "cells": [
  {
   "cell_type": "code",
   "id": "initial_id",
   "metadata": {
    "collapsed": true,
    "ExecuteTime": {
     "end_time": "2025-01-05T12:10:21.454145Z",
     "start_time": "2025-01-05T12:10:18.291955Z"
    }
   },
   "source": [
    "import pandas as pd\n",
    "import joblib\n",
    "from keras import Sequential\n",
    "from keras.src.layers import Dense, BatchNormalization, Dropout\n",
    "\n",
    "from sklearn.model_selection import train_test_split\n",
    "from sklearn.preprocessing import StandardScaler\n",
    "from scripts.custom_models import catboost_model_tuning\n",
    "from scripts.custom_models import elastic_net_model_tuning\n",
    "from scripts.custom_models import random_forest_tuning\n",
    "from scripts.custom_models import light_gbm_tuning\n",
    "from scripts.custom_models import knn_model_tuning\n",
    "from scripts.custom_models import create_stacked_model\n",
    "from scripts.custom_models import evaluate_model"
   ],
   "outputs": [],
   "execution_count": 1
  },
  {
   "metadata": {},
   "cell_type": "markdown",
   "source": [
    "# Rating Average Prediction\n",
    "### Loading the dataset"
   ],
   "id": "b70a4be518b61288"
  },
  {
   "metadata": {
    "ExecuteTime": {
     "end_time": "2025-01-05T12:10:22.713121Z",
     "start_time": "2025-01-05T12:10:21.457368Z"
    }
   },
   "cell_type": "code",
   "source": "df = pd.read_excel('../../../data/Selected_Features_Rating_Average.xlsx')",
   "id": "7fecc15c20c489ac",
   "outputs": [],
   "execution_count": 2
  },
  {
   "metadata": {},
   "cell_type": "markdown",
   "source": "### Data preparation",
   "id": "a55e56d6ee1ec9b5"
  },
  {
   "metadata": {
    "ExecuteTime": {
     "end_time": "2025-01-05T12:10:22.823132Z",
     "start_time": "2025-01-05T12:10:22.809223Z"
    }
   },
   "cell_type": "code",
   "source": [
    "X = df.drop(columns=['Rating Average'])\n",
    "y = df['Rating Average']\n",
    "\n",
    "X_train, X_test, y_train, y_test = train_test_split(X, y, test_size=0.2, random_state=42)"
   ],
   "id": "c212ababed940e0d",
   "outputs": [],
   "execution_count": 3
  },
  {
   "metadata": {
    "ExecuteTime": {
     "end_time": "2025-01-05T12:10:24.192541Z",
     "start_time": "2025-01-05T12:10:24.186056Z"
    }
   },
   "cell_type": "code",
   "source": [
    "scaler = StandardScaler()\n",
    "X_train_scaled = scaler.fit_transform(X_train)\n",
    "X_test_scaled = scaler.transform(X_test)"
   ],
   "id": "e498681fde908941",
   "outputs": [],
   "execution_count": 4
  },
  {
   "metadata": {},
   "cell_type": "markdown",
   "source": [
    "### Random Forest\n",
    "#### Training the model"
   ],
   "id": "340a5e6fa67bb9b6"
  },
  {
   "metadata": {
    "ExecuteTime": {
     "end_time": "2025-01-05T07:28:47.319342Z",
     "start_time": "2025-01-05T07:25:47.249777Z"
    }
   },
   "cell_type": "code",
   "source": "rf_model = random_forest_tuning(X_train_scaled, y_train)",
   "id": "88eb92dd0f01032d",
   "outputs": [],
   "execution_count": 12
  },
  {
   "metadata": {},
   "cell_type": "markdown",
   "source": "#### Evaluating the model",
   "id": "c39f03f8d9a39c75"
  },
  {
   "metadata": {
    "ExecuteTime": {
     "end_time": "2025-01-05T07:28:47.415403Z",
     "start_time": "2025-01-05T07:28:47.338307Z"
    }
   },
   "cell_type": "code",
   "source": [
    "rf_pred = rf_model.predict(X_test_scaled)\n",
    "mse_rf, mae_rf, r2_rf = evaluate_model(y_test, rf_pred)\n",
    "\n",
    "print(f\"Mean Squared Error: {mse_rf}\")\n",
    "print(f\"Mean Absolute Error: {mae_rf}\")\n",
    "print(f\"R2 Score: {r2_rf}\")"
   ],
   "id": "9ab9d3bf33d3ff87",
   "outputs": [
    {
     "name": "stdout",
     "output_type": "stream",
     "text": [
      "Mean Squared Error: 0.5947760893517157\n",
      "Mean Absolute Error: 0.5684910181911146\n",
      "R2 Score: 0.2578759199541437\n"
     ]
    }
   ],
   "execution_count": 13
  },
  {
   "metadata": {},
   "cell_type": "markdown",
   "source": [
    "### LightGBM\n",
    "#### Training the model"
   ],
   "id": "c0865ad4d6521e31"
  },
  {
   "metadata": {
    "ExecuteTime": {
     "end_time": "2025-01-05T07:31:08.094740Z",
     "start_time": "2025-01-05T07:28:47.418612Z"
    }
   },
   "cell_type": "code",
   "source": "light_gbm_model = light_gbm_tuning(X_train_scaled, y_train)",
   "id": "ac15a69428d78606",
   "outputs": [
    {
     "name": "stdout",
     "output_type": "stream",
     "text": [
      "[LightGBM] [Warning] min_data_in_leaf is set with min_child_samples=20, will be overridden by min_samples_leaf=2. Current value: min_data_in_leaf=2\n",
      "[LightGBM] [Warning] Unknown parameter: min_samples_split\n",
      "[LightGBM] [Warning] min_data_in_leaf is set with min_child_samples=20, will be overridden by min_samples_leaf=2. Current value: min_data_in_leaf=2\n",
      "[LightGBM] [Warning] Unknown parameter: min_samples_split\n",
      "[LightGBM] [Info] Auto-choosing row-wise multi-threading, the overhead of testing was 0.001081 seconds.\n",
      "You can set `force_row_wise=true` to remove the overhead.\n",
      "And if memory is not enough, you can set `force_col_wise=true`.\n",
      "[LightGBM] [Info] Total Bins 374\n",
      "[LightGBM] [Info] Number of data points in the train set: 16116, number of used features: 13\n",
      "[LightGBM] [Info] Start training from score 6.405470\n"
     ]
    }
   ],
   "execution_count": 14
  },
  {
   "metadata": {},
   "cell_type": "markdown",
   "source": "#### Evaluating the model",
   "id": "5d35b6d1ed95d0d6"
  },
  {
   "metadata": {
    "ExecuteTime": {
     "end_time": "2025-01-05T07:31:08.146468Z",
     "start_time": "2025-01-05T07:31:08.137251Z"
    }
   },
   "cell_type": "code",
   "source": [
    "light_gbm_pred = light_gbm_model.predict(X_test_scaled)\n",
    "mse_gbm, mae_gbm, r2_gbm = evaluate_model(y_test, light_gbm_pred)\n",
    "\n",
    "print(f\"Mean Squared Error: {mse_gbm}\")\n",
    "print(f\"Mean Absolute Error: {mae_gbm}\")\n",
    "print(f\"R2 Score: {r2_gbm}\")"
   ],
   "id": "863d944fe71f13d5",
   "outputs": [
    {
     "name": "stdout",
     "output_type": "stream",
     "text": [
      "[LightGBM] [Warning] min_data_in_leaf is set with min_child_samples=20, will be overridden by min_samples_leaf=2. Current value: min_data_in_leaf=2\n",
      "[LightGBM] [Warning] Unknown parameter: min_samples_split\n",
      "Mean Squared Error: 0.5826194540367701\n",
      "Mean Absolute Error: 0.5650555130421119\n",
      "R2 Score: 0.27304420254161343\n"
     ]
    }
   ],
   "execution_count": 15
  },
  {
   "metadata": {},
   "cell_type": "markdown",
   "source": [
    "### Catboost\n",
    "#### Training the model"
   ],
   "id": "86c67d2df50458c3"
  },
  {
   "metadata": {
    "ExecuteTime": {
     "end_time": "2025-01-05T07:31:10.060787Z",
     "start_time": "2025-01-05T07:31:08.200096Z"
    }
   },
   "cell_type": "code",
   "source": "catboost_model = catboost_model_tuning(X_train_scaled, y_train)",
   "id": "fc8818c3b88f2dbc",
   "outputs": [],
   "execution_count": 16
  },
  {
   "metadata": {},
   "cell_type": "markdown",
   "source": "#### Evaluating the model",
   "id": "5bcf45702e419060"
  },
  {
   "metadata": {
    "ExecuteTime": {
     "end_time": "2025-01-05T07:31:10.081955Z",
     "start_time": "2025-01-05T07:31:10.075363Z"
    }
   },
   "cell_type": "code",
   "source": [
    "catboost_pred = catboost_model.predict(X_test_scaled)\n",
    "mse_cat, mace_cat, r2_cat = evaluate_model(y_test, catboost_pred)\n",
    "\n",
    "print(f\"Mean Squared Error: {mse_cat}\")\n",
    "print(f\"Mean Absolute Error: {mace_cat}\")\n",
    "print(f\"R2 Score: {r2_cat}\")"
   ],
   "id": "67bf5c620ed383f4",
   "outputs": [
    {
     "name": "stdout",
     "output_type": "stream",
     "text": [
      "Mean Squared Error: 0.5806379149300978\n",
      "Mean Absolute Error: 0.5647620459025978\n",
      "R2 Score: 0.27551664202420423\n"
     ]
    }
   ],
   "execution_count": 17
  },
  {
   "metadata": {},
   "cell_type": "markdown",
   "source": [
    "### Elastic net\n",
    "#### Training the model"
   ],
   "id": "938b19af26ea57ae"
  },
  {
   "metadata": {
    "ExecuteTime": {
     "end_time": "2025-01-05T07:31:10.349553Z",
     "start_time": "2025-01-05T07:31:10.097414Z"
    }
   },
   "cell_type": "code",
   "source": "elastic_net_model = elastic_net_model_tuning(X_train_scaled, y_train)",
   "id": "3a2849d685120cc",
   "outputs": [],
   "execution_count": 18
  },
  {
   "metadata": {},
   "cell_type": "markdown",
   "source": "#### Evaluating the model",
   "id": "cbb916853964050"
  },
  {
   "metadata": {
    "ExecuteTime": {
     "end_time": "2025-01-05T07:31:10.368467Z",
     "start_time": "2025-01-05T07:31:10.363694Z"
    }
   },
   "cell_type": "code",
   "source": [
    "elastic_pred = elastic_net_model.predict(X_test_scaled)\n",
    "mse_elastic, mae_elastic, r2_elastic = evaluate_model(y_test, elastic_pred)\n",
    "\n",
    "print(f\"Mean Squared Error: {mse_elastic}\")\n",
    "print(f\"Mean Absolute Error: {mae_elastic}\")\n",
    "print(f\"R2 Score: {r2_elastic}\")"
   ],
   "id": "e0eb520c0c93a3b5",
   "outputs": [
    {
     "name": "stdout",
     "output_type": "stream",
     "text": [
      "Mean Squared Error: 0.6762433675402758\n",
      "Mean Absolute Error: 0.6227091461874976\n",
      "R2 Score: 0.1562261899768963\n"
     ]
    }
   ],
   "execution_count": 19
  },
  {
   "metadata": {},
   "cell_type": "markdown",
   "source": [
    "### Knn\n",
    "#### Training the model"
   ],
   "id": "708c2ae332b7c27c"
  },
  {
   "metadata": {
    "ExecuteTime": {
     "end_time": "2025-01-05T07:31:12.528083Z",
     "start_time": "2025-01-05T07:31:10.383028Z"
    }
   },
   "cell_type": "code",
   "source": "knn_model = knn_model_tuning(X_train_scaled, y_train)",
   "id": "2d30bec4fa520d50",
   "outputs": [],
   "execution_count": 20
  },
  {
   "metadata": {},
   "cell_type": "markdown",
   "source": "#### Evaluating the model",
   "id": "7f53ed8ddc97cb42"
  },
  {
   "metadata": {
    "ExecuteTime": {
     "end_time": "2025-01-05T07:31:12.796167Z",
     "start_time": "2025-01-05T07:31:12.545131Z"
    }
   },
   "cell_type": "code",
   "source": [
    "knn_pred = knn_model.predict(X_test_scaled)\n",
    "mse_knn, mae_knn, r2_knn = evaluate_model(y_test, knn_pred)\n",
    "\n",
    "print(f\"Mean Squared Error: {mse_knn}\")\n",
    "print(f\"Mean Absolute Error: {mae_knn}\")\n",
    "print(f\"R2 Score: {r2_knn}\")"
   ],
   "id": "b3f580bf77bdd4ad",
   "outputs": [
    {
     "name": "stdout",
     "output_type": "stream",
     "text": [
      "Mean Squared Error: 0.6268210457980393\n",
      "Mean Absolute Error: 0.6004626474364472\n",
      "R2 Score: 0.2178922450072267\n"
     ]
    }
   ],
   "execution_count": 21
  },
  {
   "metadata": {},
   "cell_type": "markdown",
   "source": [
    "### Stacked Model\n",
    "#### Training the model"
   ],
   "id": "29c6c84df6c8505e"
  },
  {
   "metadata": {
    "ExecuteTime": {
     "end_time": "2025-01-05T07:37:18.634937Z",
     "start_time": "2025-01-05T07:31:12.811171Z"
    }
   },
   "cell_type": "code",
   "source": "stacked_model = create_stacked_model(X_train_scaled, y_train)",
   "id": "b58951f0a39009ac",
   "outputs": [
    {
     "name": "stdout",
     "output_type": "stream",
     "text": [
      "[LightGBM] [Warning] min_data_in_leaf is set with min_child_samples=20, will be overridden by min_samples_leaf=2. Current value: min_data_in_leaf=2\n",
      "[LightGBM] [Warning] Unknown parameter: min_samples_split\n",
      "[LightGBM] [Warning] min_data_in_leaf is set with min_child_samples=20, will be overridden by min_samples_leaf=2. Current value: min_data_in_leaf=2\n",
      "[LightGBM] [Warning] Unknown parameter: min_samples_split\n",
      "[LightGBM] [Info] Auto-choosing row-wise multi-threading, the overhead of testing was 0.000895 seconds.\n",
      "You can set `force_row_wise=true` to remove the overhead.\n",
      "And if memory is not enough, you can set `force_col_wise=true`.\n",
      "[LightGBM] [Info] Total Bins 374\n",
      "[LightGBM] [Info] Number of data points in the train set: 16116, number of used features: 13\n",
      "[LightGBM] [Info] Start training from score 6.405470\n"
     ]
    }
   ],
   "execution_count": 22
  },
  {
   "metadata": {},
   "cell_type": "markdown",
   "source": "#### Evaluating the model",
   "id": "fff71defb45b2c4d"
  },
  {
   "metadata": {
    "ExecuteTime": {
     "end_time": "2025-01-05T07:37:19.271603Z",
     "start_time": "2025-01-05T07:37:18.724844Z"
    }
   },
   "cell_type": "code",
   "source": [
    "stacked_pred = stacked_model.predict(X_test_scaled)\n",
    "mse_stacked, mae_stacked, r2_stacked = evaluate_model(y_test, stacked_pred)\n",
    "\n",
    "print(f\"Mean Squared Error: {mse_stacked}\")\n",
    "print(f\"Mean Absolute Error: {mae_stacked}\")\n",
    "print(f\"R2 Score: {r2_stacked}\")"
   ],
   "id": "69abd8efd6e99e07",
   "outputs": [
    {
     "name": "stdout",
     "output_type": "stream",
     "text": [
      "[LightGBM] [Warning] min_data_in_leaf is set with min_child_samples=20, will be overridden by min_samples_leaf=2. Current value: min_data_in_leaf=2\n",
      "[LightGBM] [Warning] Unknown parameter: min_samples_split\n",
      "Mean Squared Error: 0.5753851226988431\n",
      "Mean Absolute Error: 0.5624325153766202\n",
      "R2 Score: 0.28207074477325844\n"
     ]
    }
   ],
   "execution_count": 23
  },
  {
   "metadata": {},
   "cell_type": "markdown",
   "source": [
    "### Conclusion\n",
    "#### Taking the best model and its evaluation metrics"
   ],
   "id": "31f77323b8267373"
  },
  {
   "metadata": {
    "ExecuteTime": {
     "end_time": "2025-01-05T07:37:19.323070Z",
     "start_time": "2025-01-05T07:37:19.318401Z"
    }
   },
   "cell_type": "code",
   "source": [
    "best_model = min([\n",
    "    ('Random Forest', mse_rf, mae_rf, r2_rf, rf_model),\n",
    "    ('LightGBM', mse_gbm, mae_gbm, r2_gbm, light_gbm_model),\n",
    "    ('Catboost', mse_cat, mace_cat, r2_cat, catboost_model),\n",
    "    ('Elastic Net', mse_elastic, mae_elastic, r2_elastic, elastic_net_model),\n",
    "    ('Knn', mse_knn, mae_knn, r2_knn, knn_model),\n",
    "    ('Stacked Model', mse_stacked, mae_stacked, r2_stacked, stacked_model)\n",
    "], key=lambda x: x[1])\n",
    "\n",
    "print(f\"Best Model: {best_model[0]}\")"
   ],
   "id": "a52d3c5647e66f3c",
   "outputs": [
    {
     "name": "stdout",
     "output_type": "stream",
     "text": [
      "Best Model: Stacked Model\n"
     ]
    }
   ],
   "execution_count": 24
  },
  {
   "metadata": {},
   "cell_type": "markdown",
   "source": "#### Saving the best model",
   "id": "6e2a2decad45ed3c"
  },
  {
   "metadata": {
    "ExecuteTime": {
     "end_time": "2025-01-05T12:10:37.183487Z",
     "start_time": "2025-01-05T12:10:37.178982Z"
    }
   },
   "cell_type": "code",
   "source": [
    "joblib.dump(best_model[4], '../../../app/saved_models/rating_average_model.pkl')\n",
    "joblib.dump(scaler, '../../../app/saved_models/rating_average_scaler.pkl')"
   ],
   "id": "7be88f0ca044c777",
   "outputs": [
    {
     "data": {
      "text/plain": [
       "['../../../app/saved_models/rating_average_scaler.pkl']"
      ]
     },
     "execution_count": 5,
     "metadata": {},
     "output_type": "execute_result"
    }
   ],
   "execution_count": 5
  }
 ],
 "metadata": {
  "kernelspec": {
   "display_name": "Python 3",
   "language": "python",
   "name": "python3"
  },
  "language_info": {
   "codemirror_mode": {
    "name": "ipython",
    "version": 2
   },
   "file_extension": ".py",
   "mimetype": "text/x-python",
   "name": "python",
   "nbconvert_exporter": "python",
   "pygments_lexer": "ipython2",
   "version": "2.7.6"
  }
 },
 "nbformat": 4,
 "nbformat_minor": 5
}
